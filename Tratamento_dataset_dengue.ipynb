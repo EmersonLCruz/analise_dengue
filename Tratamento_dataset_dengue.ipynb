{
  "cells": [
    {
      "cell_type": "markdown",
      "metadata": {
        "id": "OISHq0cjx_Cw"
      },
      "source": [
        "# Análise dos Sintomas e Evolução dos Casos\n",
        "* Quais são os sintomas mais comuns entre os casos notificados de dengue (FEBRE, MIALGIA, CEFALEIA, etc.)?\n",
        "* Existe uma relação entre a presença de sintomas graves (como LEUCOPENIA ou HEMATOLOG) e a evolução dos casos e/ou óbito?\n",
        "*\tQual é a prevalência de comorbidades (DIABETES, RENAL, HIPERTENSA, etc.) entre os pacientes diagnosticados com dengue? Qual a relação entre a presença de comorbidades e a evolução/óbito?\n",
        "* Qual é a taxa de hospitalização (HOSPITALIZ) entre os pacientes diagnosticados com dengue?\n",
        "* Qual é a taxa de mortalidade (TARGET_OBITO) associada à dengue em 2023?\n",
        "* Existe alguma tendência temporal entre a data do início dos sintomas (DT_SIN_PRI) e a evolução dos casos (EVOLUCAO) ao longo do tempo?"
      ]
    },
    {
      "cell_type": "code",
      "execution_count": 106,
      "metadata": {
        "id": "mQQuSrwdx46Y"
      },
      "outputs": [],
      "source": [
        "import pandas as pd\n",
        "import numpy as np\n",
        "import matplotlib.pyplot as plt\n",
        "import seaborn as sns"
      ]
    },
    {
      "cell_type": "code",
      "execution_count": 107,
      "metadata": {
        "colab": {
          "base_uri": "https://localhost:8080/",
          "height": 273
        },
        "id": "q4i-7i22zEMQ",
        "outputId": "00e90a91-13dd-4c2f-efd3-4eaf74f38f57"
      },
      "outputs": [
        {
          "data": {
            "text/html": [
              "<div>\n",
              "<style scoped>\n",
              "    .dataframe tbody tr th:only-of-type {\n",
              "        vertical-align: middle;\n",
              "    }\n",
              "\n",
              "    .dataframe tbody tr th {\n",
              "        vertical-align: top;\n",
              "    }\n",
              "\n",
              "    .dataframe thead th {\n",
              "        text-align: right;\n",
              "    }\n",
              "</style>\n",
              "<table border=\"1\" class=\"dataframe\">\n",
              "  <thead>\n",
              "    <tr style=\"text-align: right;\">\n",
              "      <th></th>\n",
              "      <th>Unnamed: 0</th>\n",
              "      <th>DT_NOTIFIC</th>\n",
              "      <th>ID_MUNICIP</th>\n",
              "      <th>SG_UF_NOT</th>\n",
              "      <th>DT_SIN_PRI</th>\n",
              "      <th>ANO_NASC</th>\n",
              "      <th>NU_IDADE_N</th>\n",
              "      <th>CS_SEXO</th>\n",
              "      <th>CS_GESTANT</th>\n",
              "      <th>CS_RACA</th>\n",
              "      <th>...</th>\n",
              "      <th>LEUCOPENIA</th>\n",
              "      <th>LACO</th>\n",
              "      <th>DOR_RETRO</th>\n",
              "      <th>DIABETES</th>\n",
              "      <th>HEMATOLOG</th>\n",
              "      <th>HEPATOPAT</th>\n",
              "      <th>RENAL</th>\n",
              "      <th>HIPERTENSA</th>\n",
              "      <th>ACIDO_PEPT</th>\n",
              "      <th>AUTO_IMUNE</th>\n",
              "    </tr>\n",
              "  </thead>\n",
              "  <tbody>\n",
              "    <tr>\n",
              "      <th>0</th>\n",
              "      <td>0</td>\n",
              "      <td>2023-01-01</td>\n",
              "      <td>120070</td>\n",
              "      <td>12</td>\n",
              "      <td>2023-01-01</td>\n",
              "      <td>2005.0</td>\n",
              "      <td>4017</td>\n",
              "      <td>F</td>\n",
              "      <td>5.0</td>\n",
              "      <td>4.0</td>\n",
              "      <td>...</td>\n",
              "      <td>2.0</td>\n",
              "      <td>2.0</td>\n",
              "      <td>1.0</td>\n",
              "      <td>2.0</td>\n",
              "      <td>2.0</td>\n",
              "      <td>2.0</td>\n",
              "      <td>2.0</td>\n",
              "      <td>2.0</td>\n",
              "      <td>2.0</td>\n",
              "      <td>2.0</td>\n",
              "    </tr>\n",
              "    <tr>\n",
              "      <th>1</th>\n",
              "      <td>1</td>\n",
              "      <td>2023-01-02</td>\n",
              "      <td>120005</td>\n",
              "      <td>12</td>\n",
              "      <td>2023-01-01</td>\n",
              "      <td>1971.0</td>\n",
              "      <td>4051</td>\n",
              "      <td>F</td>\n",
              "      <td>5.0</td>\n",
              "      <td>9.0</td>\n",
              "      <td>...</td>\n",
              "      <td>2.0</td>\n",
              "      <td>2.0</td>\n",
              "      <td>1.0</td>\n",
              "      <td>2.0</td>\n",
              "      <td>2.0</td>\n",
              "      <td>2.0</td>\n",
              "      <td>2.0</td>\n",
              "      <td>2.0</td>\n",
              "      <td>2.0</td>\n",
              "      <td>2.0</td>\n",
              "    </tr>\n",
              "    <tr>\n",
              "      <th>2</th>\n",
              "      <td>2</td>\n",
              "      <td>2023-01-02</td>\n",
              "      <td>120005</td>\n",
              "      <td>12</td>\n",
              "      <td>2023-01-01</td>\n",
              "      <td>1995.0</td>\n",
              "      <td>4027</td>\n",
              "      <td>F</td>\n",
              "      <td>9.0</td>\n",
              "      <td>9.0</td>\n",
              "      <td>...</td>\n",
              "      <td>2.0</td>\n",
              "      <td>2.0</td>\n",
              "      <td>2.0</td>\n",
              "      <td>2.0</td>\n",
              "      <td>2.0</td>\n",
              "      <td>2.0</td>\n",
              "      <td>2.0</td>\n",
              "      <td>2.0</td>\n",
              "      <td>2.0</td>\n",
              "      <td>2.0</td>\n",
              "    </tr>\n",
              "    <tr>\n",
              "      <th>3</th>\n",
              "      <td>3</td>\n",
              "      <td>2023-01-02</td>\n",
              "      <td>120030</td>\n",
              "      <td>12</td>\n",
              "      <td>2023-01-01</td>\n",
              "      <td>2002.0</td>\n",
              "      <td>4020</td>\n",
              "      <td>M</td>\n",
              "      <td>6.0</td>\n",
              "      <td>4.0</td>\n",
              "      <td>...</td>\n",
              "      <td>2.0</td>\n",
              "      <td>2.0</td>\n",
              "      <td>2.0</td>\n",
              "      <td>2.0</td>\n",
              "      <td>2.0</td>\n",
              "      <td>2.0</td>\n",
              "      <td>2.0</td>\n",
              "      <td>2.0</td>\n",
              "      <td>2.0</td>\n",
              "      <td>2.0</td>\n",
              "    </tr>\n",
              "    <tr>\n",
              "      <th>4</th>\n",
              "      <td>4</td>\n",
              "      <td>2023-01-02</td>\n",
              "      <td>120005</td>\n",
              "      <td>12</td>\n",
              "      <td>2023-01-02</td>\n",
              "      <td>1990.0</td>\n",
              "      <td>4032</td>\n",
              "      <td>M</td>\n",
              "      <td>6.0</td>\n",
              "      <td>9.0</td>\n",
              "      <td>...</td>\n",
              "      <td>2.0</td>\n",
              "      <td>2.0</td>\n",
              "      <td>2.0</td>\n",
              "      <td>2.0</td>\n",
              "      <td>2.0</td>\n",
              "      <td>2.0</td>\n",
              "      <td>2.0</td>\n",
              "      <td>2.0</td>\n",
              "      <td>2.0</td>\n",
              "      <td>2.0</td>\n",
              "    </tr>\n",
              "  </tbody>\n",
              "</table>\n",
              "<p>5 rows × 35 columns</p>\n",
              "</div>"
            ],
            "text/plain": [
              "   Unnamed: 0  DT_NOTIFIC  ID_MUNICIP  SG_UF_NOT  DT_SIN_PRI  ANO_NASC  \\\n",
              "0           0  2023-01-01      120070         12  2023-01-01    2005.0   \n",
              "1           1  2023-01-02      120005         12  2023-01-01    1971.0   \n",
              "2           2  2023-01-02      120005         12  2023-01-01    1995.0   \n",
              "3           3  2023-01-02      120030         12  2023-01-01    2002.0   \n",
              "4           4  2023-01-02      120005         12  2023-01-02    1990.0   \n",
              "\n",
              "   NU_IDADE_N CS_SEXO  CS_GESTANT  CS_RACA  ...  LEUCOPENIA  LACO  DOR_RETRO  \\\n",
              "0        4017       F         5.0      4.0  ...         2.0   2.0        1.0   \n",
              "1        4051       F         5.0      9.0  ...         2.0   2.0        1.0   \n",
              "2        4027       F         9.0      9.0  ...         2.0   2.0        2.0   \n",
              "3        4020       M         6.0      4.0  ...         2.0   2.0        2.0   \n",
              "4        4032       M         6.0      9.0  ...         2.0   2.0        2.0   \n",
              "\n",
              "  DIABETES  HEMATOLOG  HEPATOPAT  RENAL  HIPERTENSA  ACIDO_PEPT  AUTO_IMUNE  \n",
              "0      2.0        2.0        2.0    2.0         2.0         2.0         2.0  \n",
              "1      2.0        2.0        2.0    2.0         2.0         2.0         2.0  \n",
              "2      2.0        2.0        2.0    2.0         2.0         2.0         2.0  \n",
              "3      2.0        2.0        2.0    2.0         2.0         2.0         2.0  \n",
              "4      2.0        2.0        2.0    2.0         2.0         2.0         2.0  \n",
              "\n",
              "[5 rows x 35 columns]"
            ]
          },
          "execution_count": 107,
          "metadata": {},
          "output_type": "execute_result"
        }
      ],
      "source": [
        "df = pd.read_csv(\"dengue_resumido.csv\",sep=';')\n",
        "df = pd.DataFrame(df)\n",
        "df.head()"
      ]
    },
    {
      "cell_type": "markdown",
      "metadata": {},
      "source": [
        "### Dropando o índice"
      ]
    },
    {
      "cell_type": "code",
      "execution_count": 108,
      "metadata": {
        "id": "ZtJ2xTyjB3a2"
      },
      "outputs": [],
      "source": [
        "df.drop(columns=['Unnamed: 0'],axis=1,inplace=True)"
      ]
    },
    {
      "cell_type": "code",
      "execution_count": 109,
      "metadata": {
        "colab": {
          "base_uri": "https://localhost:8080/"
        },
        "id": "jX-YhBZ-1hQj",
        "outputId": "e16d0884-3242-439a-ece1-bbd0a4dde3c6"
      },
      "outputs": [
        {
          "data": {
            "text/plain": [
              "array([ 5.,  9.,  6.,  1.,  4.,  3.,  2., nan])"
            ]
          },
          "execution_count": 109,
          "metadata": {},
          "output_type": "execute_result"
        }
      ],
      "source": [
        "df['CS_GESTANT'].unique()"
      ]
    },
    {
      "cell_type": "code",
      "execution_count": 110,
      "metadata": {
        "colab": {
          "base_uri": "https://localhost:8080/"
        },
        "id": "h1p0-CFh1vuC",
        "outputId": "2238ca9d-0514-4efc-ac45-b65a0fc84501"
      },
      "outputs": [
        {
          "data": {
            "text/plain": [
              "array([ 4.,  9.,  1.,  5.,  2.,  3., nan])"
            ]
          },
          "execution_count": 110,
          "metadata": {},
          "output_type": "execute_result"
        }
      ],
      "source": [
        "df['CS_RACA'].unique()"
      ]
    },
    {
      "cell_type": "code",
      "execution_count": 111,
      "metadata": {
        "colab": {
          "base_uri": "https://localhost:8080/"
        },
        "id": "oclM1I0c14dh",
        "outputId": "aeb7144b-d2ac-4e11-a68d-0ff4c00e809e"
      },
      "outputs": [
        {
          "data": {
            "text/plain": [
              "array([nan,  9.,  6.,  8.,  1.,  3., 10.,  4.,  5.,  7.,  2.,  0.])"
            ]
          },
          "execution_count": 111,
          "metadata": {},
          "output_type": "execute_result"
        }
      ],
      "source": [
        "df['CS_ESCOL_N'].unique()"
      ]
    },
    {
      "cell_type": "code",
      "execution_count": 112,
      "metadata": {
        "colab": {
          "base_uri": "https://localhost:8080/"
        },
        "id": "vxWQ7LpO2c1R",
        "outputId": "689580cb-4b8c-46a4-ccc0-f45cc478659b"
      },
      "outputs": [
        {
          "data": {
            "text/plain": [
              "Index(['DT_NOTIFIC', 'ID_MUNICIP', 'SG_UF_NOT', 'DT_SIN_PRI', 'ANO_NASC',\n",
              "       'NU_IDADE_N', 'CS_SEXO', 'CS_GESTANT', 'CS_RACA', 'CS_ESCOL_N',\n",
              "       'HOSPITALIZ', 'EVOLUCAO', 'DT_OBITO', 'FEBRE', 'MIALGIA', 'CEFALEIA',\n",
              "       'EXANTEMA', 'VOMITO', 'NAUSEA', 'DOR_COSTAS', 'CONJUNTVIT', 'ARTRITE',\n",
              "       'ARTRALGIA', 'PETEQUIA_N', 'LEUCOPENIA', 'LACO', 'DOR_RETRO',\n",
              "       'DIABETES', 'HEMATOLOG', 'HEPATOPAT', 'RENAL', 'HIPERTENSA',\n",
              "       'ACIDO_PEPT', 'AUTO_IMUNE'],\n",
              "      dtype='object')"
            ]
          },
          "execution_count": 112,
          "metadata": {},
          "output_type": "execute_result"
        }
      ],
      "source": [
        "df.columns"
      ]
    },
    {
      "cell_type": "markdown",
      "metadata": {},
      "source": [
        "### Tratamento dos Sintomas"
      ]
    },
    {
      "cell_type": "markdown",
      "metadata": {
        "id": "axiUWgaw9tRj"
      },
      "source": [
        "As colunas referentes a sintomas e cormodidades apresentam os seguintes valores:\n",
        "- 1 = Sim\n",
        "- 2 = Não\n",
        "\n",
        "Para melhor entendimento será realizado replace para adequação"
      ]
    },
    {
      "cell_type": "code",
      "execution_count": 113,
      "metadata": {
        "id": "Pxn4dtQ19Rwx"
      },
      "outputs": [],
      "source": [
        "colunas = ['FEBRE', 'MIALGIA', 'CEFALEIA',\n",
        "       'EXANTEMA', 'VOMITO', 'NAUSEA', 'DOR_COSTAS', 'CONJUNTVIT', 'ARTRITE',\n",
        "       'ARTRALGIA', 'PETEQUIA_N', 'LEUCOPENIA', 'LACO', 'DOR_RETRO',\n",
        "       'DIABETES', 'HEMATOLOG', 'HEPATOPAT', 'RENAL', 'HIPERTENSA',\n",
        "       'ACIDO_PEPT', 'AUTO_IMUNE']"
      ]
    },
    {
      "cell_type": "code",
      "execution_count": 114,
      "metadata": {
        "id": "kyTHNR2M9cvQ"
      },
      "outputs": [
        {
          "name": "stderr",
          "output_type": "stream",
          "text": [
            "C:\\Users\\Gamer\\AppData\\Local\\Temp\\ipykernel_17820\\495744036.py:2: FutureWarning: A value is trying to be set on a copy of a DataFrame or Series through chained assignment using an inplace method.\n",
            "The behavior will change in pandas 3.0. This inplace method will never work because the intermediate object on which we are setting values always behaves as a copy.\n",
            "\n",
            "For example, when doing 'df[col].method(value, inplace=True)', try using 'df.method({col: value}, inplace=True)' or df[col] = df[col].method(value) instead, to perform the operation inplace on the original object.\n",
            "\n",
            "\n",
            "  df[valor].replace({1:'Sim', 2:'Não'},inplace=True)\n"
          ]
        }
      ],
      "source": [
        "for valor in colunas:\n",
        "  df[valor].replace({1:'Sim', 2:'Não'},inplace=True)"
      ]
    },
    {
      "cell_type": "code",
      "execution_count": 115,
      "metadata": {},
      "outputs": [],
      "source": [
        "for valor in colunas:\n",
        "  df[valor].fillna('Não Informado', inplace=True)"
      ]
    },
    {
      "cell_type": "code",
      "execution_count": 116,
      "metadata": {},
      "outputs": [
        {
          "data": {
            "text/plain": [
              "VOMITO\n",
              "Não              1097815\n",
              "Sim               357884\n",
              "Não Informado      52954\n",
              "Name: count, dtype: int64"
            ]
          },
          "execution_count": 116,
          "metadata": {},
          "output_type": "execute_result"
        }
      ],
      "source": [
        "df['VOMITO'].value_counts()"
      ]
    },
    {
      "cell_type": "code",
      "execution_count": 117,
      "metadata": {},
      "outputs": [
        {
          "data": {
            "text/html": [
              "<div>\n",
              "<style scoped>\n",
              "    .dataframe tbody tr th:only-of-type {\n",
              "        vertical-align: middle;\n",
              "    }\n",
              "\n",
              "    .dataframe tbody tr th {\n",
              "        vertical-align: top;\n",
              "    }\n",
              "\n",
              "    .dataframe thead th {\n",
              "        text-align: right;\n",
              "    }\n",
              "</style>\n",
              "<table border=\"1\" class=\"dataframe\">\n",
              "  <thead>\n",
              "    <tr style=\"text-align: right;\">\n",
              "      <th></th>\n",
              "      <th>FEBRE</th>\n",
              "      <th>MIALGIA</th>\n",
              "      <th>CEFALEIA</th>\n",
              "      <th>EXANTEMA</th>\n",
              "      <th>VOMITO</th>\n",
              "      <th>NAUSEA</th>\n",
              "      <th>DOR_COSTAS</th>\n",
              "      <th>CONJUNTVIT</th>\n",
              "      <th>ARTRITE</th>\n",
              "      <th>ARTRALGIA</th>\n",
              "      <th>...</th>\n",
              "      <th>LEUCOPENIA</th>\n",
              "      <th>LACO</th>\n",
              "      <th>DOR_RETRO</th>\n",
              "      <th>DIABETES</th>\n",
              "      <th>HEMATOLOG</th>\n",
              "      <th>HEPATOPAT</th>\n",
              "      <th>RENAL</th>\n",
              "      <th>HIPERTENSA</th>\n",
              "      <th>ACIDO_PEPT</th>\n",
              "      <th>AUTO_IMUNE</th>\n",
              "    </tr>\n",
              "  </thead>\n",
              "  <tbody>\n",
              "    <tr>\n",
              "      <th>0</th>\n",
              "      <td>Sim</td>\n",
              "      <td>Não</td>\n",
              "      <td>Sim</td>\n",
              "      <td>Não</td>\n",
              "      <td>Não</td>\n",
              "      <td>Não</td>\n",
              "      <td>Sim</td>\n",
              "      <td>Não</td>\n",
              "      <td>Não</td>\n",
              "      <td>Não</td>\n",
              "      <td>...</td>\n",
              "      <td>Não</td>\n",
              "      <td>Não</td>\n",
              "      <td>Sim</td>\n",
              "      <td>Não</td>\n",
              "      <td>Não</td>\n",
              "      <td>Não</td>\n",
              "      <td>Não</td>\n",
              "      <td>Não</td>\n",
              "      <td>Não</td>\n",
              "      <td>Não</td>\n",
              "    </tr>\n",
              "    <tr>\n",
              "      <th>1</th>\n",
              "      <td>Sim</td>\n",
              "      <td>Sim</td>\n",
              "      <td>Não</td>\n",
              "      <td>Não</td>\n",
              "      <td>Não</td>\n",
              "      <td>Não</td>\n",
              "      <td>Não</td>\n",
              "      <td>Não</td>\n",
              "      <td>Não</td>\n",
              "      <td>Não</td>\n",
              "      <td>...</td>\n",
              "      <td>Não</td>\n",
              "      <td>Não</td>\n",
              "      <td>Sim</td>\n",
              "      <td>Não</td>\n",
              "      <td>Não</td>\n",
              "      <td>Não</td>\n",
              "      <td>Não</td>\n",
              "      <td>Não</td>\n",
              "      <td>Não</td>\n",
              "      <td>Não</td>\n",
              "    </tr>\n",
              "    <tr>\n",
              "      <th>2</th>\n",
              "      <td>Sim</td>\n",
              "      <td>Sim</td>\n",
              "      <td>Sim</td>\n",
              "      <td>Não</td>\n",
              "      <td>Não</td>\n",
              "      <td>Não</td>\n",
              "      <td>Não</td>\n",
              "      <td>Não</td>\n",
              "      <td>Não</td>\n",
              "      <td>Não</td>\n",
              "      <td>...</td>\n",
              "      <td>Não</td>\n",
              "      <td>Não</td>\n",
              "      <td>Não</td>\n",
              "      <td>Não</td>\n",
              "      <td>Não</td>\n",
              "      <td>Não</td>\n",
              "      <td>Não</td>\n",
              "      <td>Não</td>\n",
              "      <td>Não</td>\n",
              "      <td>Não</td>\n",
              "    </tr>\n",
              "    <tr>\n",
              "      <th>3</th>\n",
              "      <td>Sim</td>\n",
              "      <td>Sim</td>\n",
              "      <td>Sim</td>\n",
              "      <td>Não</td>\n",
              "      <td>Sim</td>\n",
              "      <td>Sim</td>\n",
              "      <td>Não</td>\n",
              "      <td>Não</td>\n",
              "      <td>Não</td>\n",
              "      <td>Não</td>\n",
              "      <td>...</td>\n",
              "      <td>Não</td>\n",
              "      <td>Não</td>\n",
              "      <td>Não</td>\n",
              "      <td>Não</td>\n",
              "      <td>Não</td>\n",
              "      <td>Não</td>\n",
              "      <td>Não</td>\n",
              "      <td>Não</td>\n",
              "      <td>Não</td>\n",
              "      <td>Não</td>\n",
              "    </tr>\n",
              "    <tr>\n",
              "      <th>4</th>\n",
              "      <td>Sim</td>\n",
              "      <td>Não</td>\n",
              "      <td>Sim</td>\n",
              "      <td>Não</td>\n",
              "      <td>Não</td>\n",
              "      <td>Não</td>\n",
              "      <td>Não</td>\n",
              "      <td>Não</td>\n",
              "      <td>Não</td>\n",
              "      <td>Sim</td>\n",
              "      <td>...</td>\n",
              "      <td>Não</td>\n",
              "      <td>Não</td>\n",
              "      <td>Não</td>\n",
              "      <td>Não</td>\n",
              "      <td>Não</td>\n",
              "      <td>Não</td>\n",
              "      <td>Não</td>\n",
              "      <td>Não</td>\n",
              "      <td>Não</td>\n",
              "      <td>Não</td>\n",
              "    </tr>\n",
              "    <tr>\n",
              "      <th>...</th>\n",
              "      <td>...</td>\n",
              "      <td>...</td>\n",
              "      <td>...</td>\n",
              "      <td>...</td>\n",
              "      <td>...</td>\n",
              "      <td>...</td>\n",
              "      <td>...</td>\n",
              "      <td>...</td>\n",
              "      <td>...</td>\n",
              "      <td>...</td>\n",
              "      <td>...</td>\n",
              "      <td>...</td>\n",
              "      <td>...</td>\n",
              "      <td>...</td>\n",
              "      <td>...</td>\n",
              "      <td>...</td>\n",
              "      <td>...</td>\n",
              "      <td>...</td>\n",
              "      <td>...</td>\n",
              "      <td>...</td>\n",
              "      <td>...</td>\n",
              "    </tr>\n",
              "    <tr>\n",
              "      <th>1508648</th>\n",
              "      <td>Sim</td>\n",
              "      <td>Sim</td>\n",
              "      <td>Sim</td>\n",
              "      <td>Não</td>\n",
              "      <td>Não</td>\n",
              "      <td>Não</td>\n",
              "      <td>Não</td>\n",
              "      <td>Não</td>\n",
              "      <td>Não</td>\n",
              "      <td>Não</td>\n",
              "      <td>...</td>\n",
              "      <td>Não</td>\n",
              "      <td>Não</td>\n",
              "      <td>Não</td>\n",
              "      <td>Não</td>\n",
              "      <td>Não</td>\n",
              "      <td>Não</td>\n",
              "      <td>Não</td>\n",
              "      <td>Não</td>\n",
              "      <td>Não</td>\n",
              "      <td>Não</td>\n",
              "    </tr>\n",
              "    <tr>\n",
              "      <th>1508649</th>\n",
              "      <td>Sim</td>\n",
              "      <td>Sim</td>\n",
              "      <td>Sim</td>\n",
              "      <td>Não</td>\n",
              "      <td>Sim</td>\n",
              "      <td>Não</td>\n",
              "      <td>Não</td>\n",
              "      <td>Não</td>\n",
              "      <td>Sim</td>\n",
              "      <td>Sim</td>\n",
              "      <td>...</td>\n",
              "      <td>Não</td>\n",
              "      <td>Não</td>\n",
              "      <td>Sim</td>\n",
              "      <td>Não</td>\n",
              "      <td>Não</td>\n",
              "      <td>Não</td>\n",
              "      <td>Não</td>\n",
              "      <td>Não</td>\n",
              "      <td>Sim</td>\n",
              "      <td>Não</td>\n",
              "    </tr>\n",
              "    <tr>\n",
              "      <th>1508650</th>\n",
              "      <td>Sim</td>\n",
              "      <td>Sim</td>\n",
              "      <td>Sim</td>\n",
              "      <td>Não</td>\n",
              "      <td>Não</td>\n",
              "      <td>Não</td>\n",
              "      <td>Sim</td>\n",
              "      <td>Não</td>\n",
              "      <td>Sim</td>\n",
              "      <td>Não</td>\n",
              "      <td>...</td>\n",
              "      <td>Não</td>\n",
              "      <td>Não</td>\n",
              "      <td>Não</td>\n",
              "      <td>Não</td>\n",
              "      <td>Não</td>\n",
              "      <td>Não</td>\n",
              "      <td>Não</td>\n",
              "      <td>Sim</td>\n",
              "      <td>Não</td>\n",
              "      <td>Não</td>\n",
              "    </tr>\n",
              "    <tr>\n",
              "      <th>1508651</th>\n",
              "      <td>Sim</td>\n",
              "      <td>Sim</td>\n",
              "      <td>Sim</td>\n",
              "      <td>Não</td>\n",
              "      <td>Sim</td>\n",
              "      <td>Não</td>\n",
              "      <td>Não</td>\n",
              "      <td>Não</td>\n",
              "      <td>Sim</td>\n",
              "      <td>Sim</td>\n",
              "      <td>...</td>\n",
              "      <td>Não</td>\n",
              "      <td>Não</td>\n",
              "      <td>Não</td>\n",
              "      <td>Não</td>\n",
              "      <td>Não</td>\n",
              "      <td>Não</td>\n",
              "      <td>Não</td>\n",
              "      <td>Sim</td>\n",
              "      <td>Não</td>\n",
              "      <td>Não</td>\n",
              "    </tr>\n",
              "    <tr>\n",
              "      <th>1508652</th>\n",
              "      <td>Sim</td>\n",
              "      <td>Sim</td>\n",
              "      <td>Sim</td>\n",
              "      <td>Não</td>\n",
              "      <td>Não</td>\n",
              "      <td>Sim</td>\n",
              "      <td>Sim</td>\n",
              "      <td>Não</td>\n",
              "      <td>Sim</td>\n",
              "      <td>Não</td>\n",
              "      <td>...</td>\n",
              "      <td>Não</td>\n",
              "      <td>Não</td>\n",
              "      <td>Não</td>\n",
              "      <td>Não</td>\n",
              "      <td>Não</td>\n",
              "      <td>Não</td>\n",
              "      <td>Não</td>\n",
              "      <td>Sim</td>\n",
              "      <td>Não</td>\n",
              "      <td>Não</td>\n",
              "    </tr>\n",
              "  </tbody>\n",
              "</table>\n",
              "<p>1508653 rows × 21 columns</p>\n",
              "</div>"
            ],
            "text/plain": [
              "        FEBRE MIALGIA CEFALEIA EXANTEMA VOMITO NAUSEA DOR_COSTAS CONJUNTVIT  \\\n",
              "0         Sim     Não      Sim      Não    Não    Não        Sim        Não   \n",
              "1         Sim     Sim      Não      Não    Não    Não        Não        Não   \n",
              "2         Sim     Sim      Sim      Não    Não    Não        Não        Não   \n",
              "3         Sim     Sim      Sim      Não    Sim    Sim        Não        Não   \n",
              "4         Sim     Não      Sim      Não    Não    Não        Não        Não   \n",
              "...       ...     ...      ...      ...    ...    ...        ...        ...   \n",
              "1508648   Sim     Sim      Sim      Não    Não    Não        Não        Não   \n",
              "1508649   Sim     Sim      Sim      Não    Sim    Não        Não        Não   \n",
              "1508650   Sim     Sim      Sim      Não    Não    Não        Sim        Não   \n",
              "1508651   Sim     Sim      Sim      Não    Sim    Não        Não        Não   \n",
              "1508652   Sim     Sim      Sim      Não    Não    Sim        Sim        Não   \n",
              "\n",
              "        ARTRITE ARTRALGIA  ... LEUCOPENIA LACO DOR_RETRO DIABETES HEMATOLOG  \\\n",
              "0           Não       Não  ...        Não  Não       Sim      Não       Não   \n",
              "1           Não       Não  ...        Não  Não       Sim      Não       Não   \n",
              "2           Não       Não  ...        Não  Não       Não      Não       Não   \n",
              "3           Não       Não  ...        Não  Não       Não      Não       Não   \n",
              "4           Não       Sim  ...        Não  Não       Não      Não       Não   \n",
              "...         ...       ...  ...        ...  ...       ...      ...       ...   \n",
              "1508648     Não       Não  ...        Não  Não       Não      Não       Não   \n",
              "1508649     Sim       Sim  ...        Não  Não       Sim      Não       Não   \n",
              "1508650     Sim       Não  ...        Não  Não       Não      Não       Não   \n",
              "1508651     Sim       Sim  ...        Não  Não       Não      Não       Não   \n",
              "1508652     Sim       Não  ...        Não  Não       Não      Não       Não   \n",
              "\n",
              "        HEPATOPAT RENAL HIPERTENSA ACIDO_PEPT AUTO_IMUNE  \n",
              "0             Não   Não        Não        Não        Não  \n",
              "1             Não   Não        Não        Não        Não  \n",
              "2             Não   Não        Não        Não        Não  \n",
              "3             Não   Não        Não        Não        Não  \n",
              "4             Não   Não        Não        Não        Não  \n",
              "...           ...   ...        ...        ...        ...  \n",
              "1508648       Não   Não        Não        Não        Não  \n",
              "1508649       Não   Não        Não        Sim        Não  \n",
              "1508650       Não   Não        Sim        Não        Não  \n",
              "1508651       Não   Não        Sim        Não        Não  \n",
              "1508652       Não   Não        Sim        Não        Não  \n",
              "\n",
              "[1508653 rows x 21 columns]"
            ]
          },
          "execution_count": 117,
          "metadata": {},
          "output_type": "execute_result"
        }
      ],
      "source": [
        "df[['FEBRE', 'MIALGIA', 'CEFALEIA',\n",
        "       'EXANTEMA', 'VOMITO', 'NAUSEA', 'DOR_COSTAS', 'CONJUNTVIT', 'ARTRITE',\n",
        "       'ARTRALGIA', 'PETEQUIA_N', 'LEUCOPENIA', 'LACO', 'DOR_RETRO',\n",
        "       'DIABETES', 'HEMATOLOG', 'HEPATOPAT', 'RENAL', 'HIPERTENSA',\n",
        "       'ACIDO_PEPT', 'AUTO_IMUNE']]"
      ]
    },
    {
      "cell_type": "markdown",
      "metadata": {},
      "source": [
        "### Tratamento de Gestante"
      ]
    },
    {
      "cell_type": "code",
      "execution_count": 118,
      "metadata": {
        "id": "rMdy32CcW-t2"
      },
      "outputs": [
        {
          "name": "stderr",
          "output_type": "stream",
          "text": [
            "C:\\Users\\Gamer\\AppData\\Local\\Temp\\ipykernel_17820\\1575735799.py:1: FutureWarning: A value is trying to be set on a copy of a DataFrame or Series through chained assignment using an inplace method.\n",
            "The behavior will change in pandas 3.0. This inplace method will never work because the intermediate object on which we are setting values always behaves as a copy.\n",
            "\n",
            "For example, when doing 'df[col].method(value, inplace=True)', try using 'df.method({col: value}, inplace=True)' or df[col] = df[col].method(value) instead, to perform the operation inplace on the original object.\n",
            "\n",
            "\n",
            "  df['CS_GESTANT'].replace({1:'1º Trimestre',2:'2º Trimestre',3:'3º Trimestre',4:'Idade gestacional ignorada',\n"
          ]
        }
      ],
      "source": [
        "df['CS_GESTANT'].replace({1:'1º Trimestre',2:'2º Trimestre',3:'3º Trimestre',4:'Idade gestacional ignorada',\n",
        "                          5:'Não',6:'Não se aplica',9:'Ignorado'},inplace=True)"
      ]
    },
    {
      "cell_type": "code",
      "execution_count": 119,
      "metadata": {},
      "outputs": [],
      "source": [
        "df['CS_GESTANT'].fillna('Ignorado', inplace=True)"
      ]
    },
    {
      "cell_type": "code",
      "execution_count": 120,
      "metadata": {
        "colab": {
          "base_uri": "https://localhost:8080/",
          "height": 241
        },
        "id": "juwKvQAPAwDn",
        "outputId": "17daeda0-aaa5-4a2d-a3a7-517c37ed2cc8"
      },
      "outputs": [
        {
          "data": {
            "text/plain": [
              "0"
            ]
          },
          "execution_count": 120,
          "metadata": {},
          "output_type": "execute_result"
        }
      ],
      "source": [
        "df['CS_GESTANT'].isnull().sum()"
      ]
    },
    {
      "cell_type": "markdown",
      "metadata": {},
      "source": [
        "### Tratamento Raça"
      ]
    },
    {
      "cell_type": "code",
      "execution_count": 121,
      "metadata": {
        "id": "mdxGGfenYNbh"
      },
      "outputs": [
        {
          "name": "stderr",
          "output_type": "stream",
          "text": [
            "C:\\Users\\Gamer\\AppData\\Local\\Temp\\ipykernel_17820\\996673323.py:1: FutureWarning: A value is trying to be set on a copy of a DataFrame or Series through chained assignment using an inplace method.\n",
            "The behavior will change in pandas 3.0. This inplace method will never work because the intermediate object on which we are setting values always behaves as a copy.\n",
            "\n",
            "For example, when doing 'df[col].method(value, inplace=True)', try using 'df.method({col: value}, inplace=True)' or df[col] = df[col].method(value) instead, to perform the operation inplace on the original object.\n",
            "\n",
            "\n",
            "  df['CS_RACA'].replace({1:'Branca',2:'Preta',3:'Amarela',4:'Parda',\n"
          ]
        }
      ],
      "source": [
        "df['CS_RACA'].replace({1:'Branca',2:'Preta',3:'Amarela',4:'Parda',\n",
        "                          5:'Indígena',9:'Ignorado'},inplace=True)"
      ]
    },
    {
      "cell_type": "code",
      "execution_count": 122,
      "metadata": {},
      "outputs": [],
      "source": [
        "df['CS_RACA'].fillna('Ignorado', inplace=True)"
      ]
    },
    {
      "cell_type": "code",
      "execution_count": 123,
      "metadata": {
        "colab": {
          "base_uri": "https://localhost:8080/",
          "height": 398
        },
        "id": "bGzkC_e5-b7X",
        "outputId": "3ed44ce4-e26f-441c-ed52-136a83c5fa93"
      },
      "outputs": [
        {
          "data": {
            "text/plain": [
              "CS_RACA\n",
              "Branca      660516\n",
              "Parda       526535\n",
              "Ignorado    237482\n",
              "Preta        65251\n",
              "Amarela      15842\n",
              "Indígena      3027\n",
              "Name: count, dtype: int64"
            ]
          },
          "execution_count": 123,
          "metadata": {},
          "output_type": "execute_result"
        }
      ],
      "source": [
        "df['CS_RACA'].value_counts()"
      ]
    },
    {
      "cell_type": "code",
      "execution_count": 124,
      "metadata": {},
      "outputs": [
        {
          "data": {
            "text/plain": [
              "0"
            ]
          },
          "execution_count": 124,
          "metadata": {},
          "output_type": "execute_result"
        }
      ],
      "source": [
        "df['CS_RACA'].isnull().sum()"
      ]
    },
    {
      "cell_type": "markdown",
      "metadata": {},
      "source": [
        "### Tratamento Escolaridade"
      ]
    },
    {
      "cell_type": "code",
      "execution_count": 125,
      "metadata": {
        "id": "nwKbsVdT_T6H"
      },
      "outputs": [
        {
          "name": "stderr",
          "output_type": "stream",
          "text": [
            "C:\\Users\\Gamer\\AppData\\Local\\Temp\\ipykernel_17820\\2399351889.py:1: FutureWarning: A value is trying to be set on a copy of a DataFrame or Series through chained assignment using an inplace method.\n",
            "The behavior will change in pandas 3.0. This inplace method will never work because the intermediate object on which we are setting values always behaves as a copy.\n",
            "\n",
            "For example, when doing 'df[col].method(value, inplace=True)', try using 'df.method({col: value}, inplace=True)' or df[col] = df[col].method(value) instead, to perform the operation inplace on the original object.\n",
            "\n",
            "\n",
            "  df['CS_ESCOL_N'].replace({1:'Fundamental incompleto',2:'Fundamental completo',3:'Fundamental incompleto',\n"
          ]
        }
      ],
      "source": [
        "df['CS_ESCOL_N'].replace({1:'Fundamental incompleto',2:'Fundamental completo',3:'Fundamental incompleto',\n",
        "                          4:'Fundamental completo',5:'Ensino Médio incompleto',6:'Ensino Médio completo',\n",
        "                          7:'Ensino Superior incompleto',8:'Ensino superior completo',9:'Ignorado',10:'Não se aplica', 0: 'Ignorado'},inplace=True)"
      ]
    },
    {
      "cell_type": "code",
      "execution_count": 126,
      "metadata": {},
      "outputs": [],
      "source": [
        "df['CS_ESCOL_N'].fillna('Ignorado', inplace=True)"
      ]
    },
    {
      "cell_type": "code",
      "execution_count": 127,
      "metadata": {},
      "outputs": [
        {
          "data": {
            "text/plain": [
              "CS_ESCOL_N\n",
              "Ignorado                      763293\n",
              "Ensino Médio completo         249262\n",
              "Fundamental incompleto        141594\n",
              "Não se aplica                 100917\n",
              "Fundamental completo           90212\n",
              "Ensino Médio incompleto        77064\n",
              "Ensino superior completo       65083\n",
              "Ensino Superior incompleto     21228\n",
              "Name: count, dtype: int64"
            ]
          },
          "execution_count": 127,
          "metadata": {},
          "output_type": "execute_result"
        }
      ],
      "source": [
        "df['CS_ESCOL_N'].value_counts()"
      ]
    },
    {
      "cell_type": "code",
      "execution_count": 128,
      "metadata": {},
      "outputs": [
        {
          "data": {
            "text/plain": [
              "0"
            ]
          },
          "execution_count": 128,
          "metadata": {},
          "output_type": "execute_result"
        }
      ],
      "source": [
        "df['CS_ESCOL_N'].isnull().sum()"
      ]
    },
    {
      "cell_type": "markdown",
      "metadata": {},
      "source": [
        "### Tratamento de Data"
      ]
    },
    {
      "cell_type": "code",
      "execution_count": 129,
      "metadata": {
        "id": "dnMoW5EObRe1"
      },
      "outputs": [],
      "source": [
        "import datetime as dt"
      ]
    },
    {
      "cell_type": "code",
      "execution_count": 130,
      "metadata": {
        "colab": {
          "base_uri": "https://localhost:8080/"
        },
        "id": "KvR_WQi0by2c",
        "outputId": "f137f3dd-3603-45ae-8d2b-98084396e6e0"
      },
      "outputs": [
        {
          "name": "stdout",
          "output_type": "stream",
          "text": [
            "<class 'pandas.core.frame.DataFrame'>\n",
            "RangeIndex: 1508653 entries, 0 to 1508652\n",
            "Data columns (total 2 columns):\n",
            " #   Column      Non-Null Count    Dtype \n",
            "---  ------      --------------    ----- \n",
            " 0   DT_SIN_PRI  1508653 non-null  object\n",
            " 1   DT_NOTIFIC  1508653 non-null  object\n",
            "dtypes: object(2)\n",
            "memory usage: 23.0+ MB\n"
          ]
        }
      ],
      "source": [
        "df[['DT_SIN_PRI','DT_NOTIFIC']].info()"
      ]
    },
    {
      "cell_type": "code",
      "execution_count": 131,
      "metadata": {},
      "outputs": [
        {
          "data": {
            "text/plain": [
              "0"
            ]
          },
          "execution_count": 131,
          "metadata": {},
          "output_type": "execute_result"
        }
      ],
      "source": [
        "df['DT_SIN_PRI'].isnull().sum()"
      ]
    },
    {
      "cell_type": "code",
      "execution_count": 132,
      "metadata": {},
      "outputs": [
        {
          "data": {
            "text/plain": [
              "0"
            ]
          },
          "execution_count": 132,
          "metadata": {},
          "output_type": "execute_result"
        }
      ],
      "source": [
        "df['DT_NOTIFIC'].isnull().sum()"
      ]
    },
    {
      "cell_type": "code",
      "execution_count": 133,
      "metadata": {
        "id": "E2e3SBTbc5MT"
      },
      "outputs": [],
      "source": [
        "df['DT_SIN_PRI'] = pd.to_datetime(df['DT_SIN_PRI'],format='%Y-%m-%d')\n",
        "df['DT_NOTIFIC'] = pd.to_datetime(df['DT_NOTIFIC'],format='%Y-%m-%d')"
      ]
    },
    {
      "cell_type": "code",
      "execution_count": 134,
      "metadata": {
        "colab": {
          "base_uri": "https://localhost:8080/",
          "height": 534
        },
        "id": "Plae0HH8dH7E",
        "outputId": "4b7a6e16-761c-444d-f19a-6fa0dc6b1ccc"
      },
      "outputs": [
        {
          "data": {
            "text/html": [
              "<div>\n",
              "<style scoped>\n",
              "    .dataframe tbody tr th:only-of-type {\n",
              "        vertical-align: middle;\n",
              "    }\n",
              "\n",
              "    .dataframe tbody tr th {\n",
              "        vertical-align: top;\n",
              "    }\n",
              "\n",
              "    .dataframe thead th {\n",
              "        text-align: right;\n",
              "    }\n",
              "</style>\n",
              "<table border=\"1\" class=\"dataframe\">\n",
              "  <thead>\n",
              "    <tr style=\"text-align: right;\">\n",
              "      <th></th>\n",
              "      <th>DT_NOTIFIC</th>\n",
              "      <th>ID_MUNICIP</th>\n",
              "      <th>SG_UF_NOT</th>\n",
              "      <th>DT_SIN_PRI</th>\n",
              "      <th>ANO_NASC</th>\n",
              "      <th>NU_IDADE_N</th>\n",
              "      <th>CS_SEXO</th>\n",
              "      <th>CS_GESTANT</th>\n",
              "      <th>CS_RACA</th>\n",
              "      <th>CS_ESCOL_N</th>\n",
              "      <th>...</th>\n",
              "      <th>LEUCOPENIA</th>\n",
              "      <th>LACO</th>\n",
              "      <th>DOR_RETRO</th>\n",
              "      <th>DIABETES</th>\n",
              "      <th>HEMATOLOG</th>\n",
              "      <th>HEPATOPAT</th>\n",
              "      <th>RENAL</th>\n",
              "      <th>HIPERTENSA</th>\n",
              "      <th>ACIDO_PEPT</th>\n",
              "      <th>AUTO_IMUNE</th>\n",
              "    </tr>\n",
              "  </thead>\n",
              "  <tbody>\n",
              "    <tr>\n",
              "      <th>735540</th>\n",
              "      <td>2023-05-30</td>\n",
              "      <td>250900</td>\n",
              "      <td>25</td>\n",
              "      <td>2023-05-28</td>\n",
              "      <td>2023.0</td>\n",
              "      <td>2001</td>\n",
              "      <td>F</td>\n",
              "      <td>Não se aplica</td>\n",
              "      <td>Parda</td>\n",
              "      <td>Não se aplica</td>\n",
              "      <td>...</td>\n",
              "      <td>Não</td>\n",
              "      <td>Não</td>\n",
              "      <td>Não</td>\n",
              "      <td>Não</td>\n",
              "      <td>Não</td>\n",
              "      <td>Não</td>\n",
              "      <td>Não</td>\n",
              "      <td>Não</td>\n",
              "      <td>Não</td>\n",
              "      <td>Não</td>\n",
              "    </tr>\n",
              "    <tr>\n",
              "      <th>174913</th>\n",
              "      <td>2023-03-18</td>\n",
              "      <td>317020</td>\n",
              "      <td>31</td>\n",
              "      <td>2023-03-14</td>\n",
              "      <td>1990.0</td>\n",
              "      <td>4033</td>\n",
              "      <td>M</td>\n",
              "      <td>Não se aplica</td>\n",
              "      <td>Parda</td>\n",
              "      <td>Ignorado</td>\n",
              "      <td>...</td>\n",
              "      <td>Não</td>\n",
              "      <td>Não</td>\n",
              "      <td>Não</td>\n",
              "      <td>Não</td>\n",
              "      <td>Não</td>\n",
              "      <td>Não</td>\n",
              "      <td>Não</td>\n",
              "      <td>Não</td>\n",
              "      <td>Não</td>\n",
              "      <td>Não</td>\n",
              "    </tr>\n",
              "    <tr>\n",
              "      <th>318115</th>\n",
              "      <td>2023-03-08</td>\n",
              "      <td>430680</td>\n",
              "      <td>43</td>\n",
              "      <td>2023-03-06</td>\n",
              "      <td>1967.0</td>\n",
              "      <td>4055</td>\n",
              "      <td>F</td>\n",
              "      <td>Não</td>\n",
              "      <td>Branca</td>\n",
              "      <td>Ignorado</td>\n",
              "      <td>...</td>\n",
              "      <td>Não</td>\n",
              "      <td>Não</td>\n",
              "      <td>Sim</td>\n",
              "      <td>Não</td>\n",
              "      <td>Não</td>\n",
              "      <td>Não</td>\n",
              "      <td>Não</td>\n",
              "      <td>Não</td>\n",
              "      <td>Não</td>\n",
              "      <td>Não</td>\n",
              "    </tr>\n",
              "    <tr>\n",
              "      <th>941094</th>\n",
              "      <td>2023-04-21</td>\n",
              "      <td>420200</td>\n",
              "      <td>42</td>\n",
              "      <td>2023-04-18</td>\n",
              "      <td>2013.0</td>\n",
              "      <td>4009</td>\n",
              "      <td>M</td>\n",
              "      <td>Não se aplica</td>\n",
              "      <td>Branca</td>\n",
              "      <td>Ignorado</td>\n",
              "      <td>...</td>\n",
              "      <td>Não</td>\n",
              "      <td>Não</td>\n",
              "      <td>Não</td>\n",
              "      <td>Não</td>\n",
              "      <td>Não</td>\n",
              "      <td>Não</td>\n",
              "      <td>Não</td>\n",
              "      <td>Não</td>\n",
              "      <td>Não</td>\n",
              "      <td>Não</td>\n",
              "    </tr>\n",
              "    <tr>\n",
              "      <th>128649</th>\n",
              "      <td>2023-02-10</td>\n",
              "      <td>313820</td>\n",
              "      <td>31</td>\n",
              "      <td>2023-02-08</td>\n",
              "      <td>2002.0</td>\n",
              "      <td>4020</td>\n",
              "      <td>F</td>\n",
              "      <td>Não</td>\n",
              "      <td>Branca</td>\n",
              "      <td>Ensino Médio completo</td>\n",
              "      <td>...</td>\n",
              "      <td>Não</td>\n",
              "      <td>Não</td>\n",
              "      <td>Não</td>\n",
              "      <td>Não</td>\n",
              "      <td>Não</td>\n",
              "      <td>Não</td>\n",
              "      <td>Não</td>\n",
              "      <td>Não</td>\n",
              "      <td>Não</td>\n",
              "      <td>Não</td>\n",
              "    </tr>\n",
              "    <tr>\n",
              "      <th>422273</th>\n",
              "      <td>2023-02-01</td>\n",
              "      <td>354075</td>\n",
              "      <td>35</td>\n",
              "      <td>2023-01-18</td>\n",
              "      <td>1981.0</td>\n",
              "      <td>4041</td>\n",
              "      <td>F</td>\n",
              "      <td>Não</td>\n",
              "      <td>Branca</td>\n",
              "      <td>Fundamental incompleto</td>\n",
              "      <td>...</td>\n",
              "      <td>Não</td>\n",
              "      <td>Não</td>\n",
              "      <td>Não</td>\n",
              "      <td>Não</td>\n",
              "      <td>Não</td>\n",
              "      <td>Não</td>\n",
              "      <td>Não</td>\n",
              "      <td>Não</td>\n",
              "      <td>Não</td>\n",
              "      <td>Não</td>\n",
              "    </tr>\n",
              "    <tr>\n",
              "      <th>1360184</th>\n",
              "      <td>2023-08-30</td>\n",
              "      <td>520870</td>\n",
              "      <td>52</td>\n",
              "      <td>2023-08-29</td>\n",
              "      <td>1982.0</td>\n",
              "      <td>4041</td>\n",
              "      <td>M</td>\n",
              "      <td>Não se aplica</td>\n",
              "      <td>Amarela</td>\n",
              "      <td>Ignorado</td>\n",
              "      <td>...</td>\n",
              "      <td>Não Informado</td>\n",
              "      <td>Não Informado</td>\n",
              "      <td>Não Informado</td>\n",
              "      <td>Não Informado</td>\n",
              "      <td>Não Informado</td>\n",
              "      <td>Não Informado</td>\n",
              "      <td>Não Informado</td>\n",
              "      <td>Não Informado</td>\n",
              "      <td>Não Informado</td>\n",
              "      <td>Não Informado</td>\n",
              "    </tr>\n",
              "    <tr>\n",
              "      <th>10362</th>\n",
              "      <td>2023-02-08</td>\n",
              "      <td>292520</td>\n",
              "      <td>29</td>\n",
              "      <td>2023-02-03</td>\n",
              "      <td>2005.0</td>\n",
              "      <td>4017</td>\n",
              "      <td>F</td>\n",
              "      <td>Não se aplica</td>\n",
              "      <td>Parda</td>\n",
              "      <td>Ignorado</td>\n",
              "      <td>...</td>\n",
              "      <td>Não</td>\n",
              "      <td>Não</td>\n",
              "      <td>Não</td>\n",
              "      <td>Não</td>\n",
              "      <td>Não</td>\n",
              "      <td>Não</td>\n",
              "      <td>Não</td>\n",
              "      <td>Não</td>\n",
              "      <td>Não</td>\n",
              "      <td>Não</td>\n",
              "    </tr>\n",
              "    <tr>\n",
              "      <th>236323</th>\n",
              "      <td>2023-01-21</td>\n",
              "      <td>510704</td>\n",
              "      <td>51</td>\n",
              "      <td>2023-01-21</td>\n",
              "      <td>2000.0</td>\n",
              "      <td>4022</td>\n",
              "      <td>M</td>\n",
              "      <td>Não se aplica</td>\n",
              "      <td>Ignorado</td>\n",
              "      <td>Ignorado</td>\n",
              "      <td>...</td>\n",
              "      <td>Não</td>\n",
              "      <td>Não</td>\n",
              "      <td>Não</td>\n",
              "      <td>Não</td>\n",
              "      <td>Não</td>\n",
              "      <td>Não</td>\n",
              "      <td>Não</td>\n",
              "      <td>Não</td>\n",
              "      <td>Não</td>\n",
              "      <td>Não</td>\n",
              "    </tr>\n",
              "    <tr>\n",
              "      <th>207034</th>\n",
              "      <td>2023-03-24</td>\n",
              "      <td>312710</td>\n",
              "      <td>31</td>\n",
              "      <td>2023-03-24</td>\n",
              "      <td>2004.0</td>\n",
              "      <td>4018</td>\n",
              "      <td>F</td>\n",
              "      <td>Não</td>\n",
              "      <td>Parda</td>\n",
              "      <td>Ensino Médio incompleto</td>\n",
              "      <td>...</td>\n",
              "      <td>Não</td>\n",
              "      <td>Não</td>\n",
              "      <td>Não</td>\n",
              "      <td>Não</td>\n",
              "      <td>Não</td>\n",
              "      <td>Não</td>\n",
              "      <td>Não</td>\n",
              "      <td>Não</td>\n",
              "      <td>Não</td>\n",
              "      <td>Não</td>\n",
              "    </tr>\n",
              "  </tbody>\n",
              "</table>\n",
              "<p>10 rows × 34 columns</p>\n",
              "</div>"
            ],
            "text/plain": [
              "        DT_NOTIFIC  ID_MUNICIP  SG_UF_NOT DT_SIN_PRI  ANO_NASC  NU_IDADE_N  \\\n",
              "735540  2023-05-30      250900         25 2023-05-28    2023.0        2001   \n",
              "174913  2023-03-18      317020         31 2023-03-14    1990.0        4033   \n",
              "318115  2023-03-08      430680         43 2023-03-06    1967.0        4055   \n",
              "941094  2023-04-21      420200         42 2023-04-18    2013.0        4009   \n",
              "128649  2023-02-10      313820         31 2023-02-08    2002.0        4020   \n",
              "422273  2023-02-01      354075         35 2023-01-18    1981.0        4041   \n",
              "1360184 2023-08-30      520870         52 2023-08-29    1982.0        4041   \n",
              "10362   2023-02-08      292520         29 2023-02-03    2005.0        4017   \n",
              "236323  2023-01-21      510704         51 2023-01-21    2000.0        4022   \n",
              "207034  2023-03-24      312710         31 2023-03-24    2004.0        4018   \n",
              "\n",
              "        CS_SEXO     CS_GESTANT   CS_RACA               CS_ESCOL_N  ...  \\\n",
              "735540        F  Não se aplica     Parda            Não se aplica  ...   \n",
              "174913        M  Não se aplica     Parda                 Ignorado  ...   \n",
              "318115        F            Não    Branca                 Ignorado  ...   \n",
              "941094        M  Não se aplica    Branca                 Ignorado  ...   \n",
              "128649        F            Não    Branca    Ensino Médio completo  ...   \n",
              "422273        F            Não    Branca   Fundamental incompleto  ...   \n",
              "1360184       M  Não se aplica   Amarela                 Ignorado  ...   \n",
              "10362         F  Não se aplica     Parda                 Ignorado  ...   \n",
              "236323        M  Não se aplica  Ignorado                 Ignorado  ...   \n",
              "207034        F            Não     Parda  Ensino Médio incompleto  ...   \n",
              "\n",
              "            LEUCOPENIA           LACO      DOR_RETRO       DIABETES  \\\n",
              "735540             Não            Não            Não            Não   \n",
              "174913             Não            Não            Não            Não   \n",
              "318115             Não            Não            Sim            Não   \n",
              "941094             Não            Não            Não            Não   \n",
              "128649             Não            Não            Não            Não   \n",
              "422273             Não            Não            Não            Não   \n",
              "1360184  Não Informado  Não Informado  Não Informado  Não Informado   \n",
              "10362              Não            Não            Não            Não   \n",
              "236323             Não            Não            Não            Não   \n",
              "207034             Não            Não            Não            Não   \n",
              "\n",
              "             HEMATOLOG      HEPATOPAT          RENAL     HIPERTENSA  \\\n",
              "735540             Não            Não            Não            Não   \n",
              "174913             Não            Não            Não            Não   \n",
              "318115             Não            Não            Não            Não   \n",
              "941094             Não            Não            Não            Não   \n",
              "128649             Não            Não            Não            Não   \n",
              "422273             Não            Não            Não            Não   \n",
              "1360184  Não Informado  Não Informado  Não Informado  Não Informado   \n",
              "10362              Não            Não            Não            Não   \n",
              "236323             Não            Não            Não            Não   \n",
              "207034             Não            Não            Não            Não   \n",
              "\n",
              "            ACIDO_PEPT     AUTO_IMUNE  \n",
              "735540             Não            Não  \n",
              "174913             Não            Não  \n",
              "318115             Não            Não  \n",
              "941094             Não            Não  \n",
              "128649             Não            Não  \n",
              "422273             Não            Não  \n",
              "1360184  Não Informado  Não Informado  \n",
              "10362              Não            Não  \n",
              "236323             Não            Não  \n",
              "207034             Não            Não  \n",
              "\n",
              "[10 rows x 34 columns]"
            ]
          },
          "execution_count": 134,
          "metadata": {},
          "output_type": "execute_result"
        }
      ],
      "source": [
        "df.sample(10)"
      ]
    },
    {
      "cell_type": "code",
      "execution_count": 147,
      "metadata": {},
      "outputs": [],
      "source": [
        "df['DT_OBITO'] = pd.to_datetime(df['DT_OBITO'],format='%Y-%m-%d')"
      ]
    },
    {
      "cell_type": "code",
      "execution_count": 148,
      "metadata": {},
      "outputs": [
        {
          "name": "stdout",
          "output_type": "stream",
          "text": [
            "<class 'pandas.core.series.Series'>\n",
            "Index: 1508616 entries, 0 to 1508652\n",
            "Series name: DT_OBITO\n",
            "Non-Null Count  Dtype         \n",
            "--------------  -----         \n",
            "1531 non-null   datetime64[ns]\n",
            "dtypes: datetime64[ns](1)\n",
            "memory usage: 23.0 MB\n"
          ]
        }
      ],
      "source": [
        "df['DT_OBITO'].info()"
      ]
    },
    {
      "cell_type": "markdown",
      "metadata": {},
      "source": [
        "### Tratamento de Idade"
      ]
    },
    {
      "cell_type": "code",
      "execution_count": 135,
      "metadata": {},
      "outputs": [],
      "source": [
        "def calcular_idade(valor, ano_nasc):\n",
        "    # Converte o valor para string para facilitar o acesso aos dígitos\n",
        "    valor_str = str(valor)\n",
        "    \n",
        "    # Verifica o primeiro dígito\n",
        "    if valor_str[0] == '4':\n",
        "        # Retorna os últimos três dígitos como idade\n",
        "        idade = int(valor_str[1:])\n",
        "    else:\n",
        "        # Retorna 1 para outros casos\n",
        "        idade = 1\n",
        "    \n",
        "    #Se a idade for maior do que 100, vamos calulá-la a partir da coluna ANO_NASC\n",
        "    if idade >= 100:\n",
        "        idade = 2023 - ano_nasc\n",
        "\n",
        "    return idade"
      ]
    },
    {
      "cell_type": "code",
      "execution_count": 136,
      "metadata": {},
      "outputs": [],
      "source": [
        "# Aplica a função em cada valor da coluna NU_IDADE_N\n",
        "df['NU_IDADE_N'] = df.apply(\n",
        "    lambda row: calcular_idade(row['NU_IDADE_N'], row['ANO_NASC']), axis=1\n",
        ")"
      ]
    },
    {
      "cell_type": "code",
      "execution_count": 137,
      "metadata": {},
      "outputs": [
        {
          "data": {
            "text/plain": [
              "NU_IDADE_N\n",
              "23.0     30483\n",
              "22.0     30012\n",
              "25.0     29573\n",
              "26.0     29087\n",
              "21.0     28895\n",
              "         ...  \n",
              "119.0        1\n",
              "107.0        1\n",
              "116.0        1\n",
              "118.0        1\n",
              "115.0        1\n",
              "Name: count, Length: 123, dtype: int64"
            ]
          },
          "execution_count": 137,
          "metadata": {},
          "output_type": "execute_result"
        }
      ],
      "source": [
        "df['NU_IDADE_N'].value_counts()"
      ]
    },
    {
      "cell_type": "markdown",
      "metadata": {},
      "source": [
        "Criando uma coluna categórica para as faixas etárias"
      ]
    },
    {
      "cell_type": "code",
      "execution_count": 138,
      "metadata": {},
      "outputs": [],
      "source": [
        "faixas_etarias = {\n",
        "    \"80+\": (80, 200),\n",
        "    \"75 a 79\": (75, 79),\n",
        "    \"70 a 74\": (70, 74),\n",
        "    \"65 a 69\": (65, 69),\n",
        "    \"60 a 64\": (60, 64),\n",
        "    \"55 a 59\": (55, 59),\n",
        "    \"50 a 54\": (50, 54),\n",
        "    \"45 a 49\": (45, 49),\n",
        "    \"40 a 44\": (40, 44),\n",
        "    \"35 a 39\": (35, 39),\n",
        "    \"30 a 34\": (30, 34),\n",
        "    \"25 a 29\": (25, 29),\n",
        "    \"20 a 24\": (20, 24),\n",
        "    \"15 a 19\": (15, 19),\n",
        "    \"10 a 14\": (10, 14),\n",
        "    \"5 a 9\": (5, 9),\n",
        "    \"0 a 4\": (0, 4)\n",
        "}"
      ]
    },
    {
      "cell_type": "code",
      "execution_count": 139,
      "metadata": {},
      "outputs": [],
      "source": [
        "#Criando uma coluna categórica para cada faixa etária\n",
        "def definir_faixa_etaria(idade):\n",
        "    for faixa, (min_idade, max_idade) in faixas_etarias.items():\n",
        "        if min_idade <= idade <= max_idade:\n",
        "            return faixa\n",
        "    return 'Idade não informada'"
      ]
    },
    {
      "cell_type": "code",
      "execution_count": 140,
      "metadata": {},
      "outputs": [
        {
          "data": {
            "text/html": [
              "<div>\n",
              "<style scoped>\n",
              "    .dataframe tbody tr th:only-of-type {\n",
              "        vertical-align: middle;\n",
              "    }\n",
              "\n",
              "    .dataframe tbody tr th {\n",
              "        vertical-align: top;\n",
              "    }\n",
              "\n",
              "    .dataframe thead th {\n",
              "        text-align: right;\n",
              "    }\n",
              "</style>\n",
              "<table border=\"1\" class=\"dataframe\">\n",
              "  <thead>\n",
              "    <tr style=\"text-align: right;\">\n",
              "      <th></th>\n",
              "      <th>DT_NOTIFIC</th>\n",
              "      <th>ID_MUNICIP</th>\n",
              "      <th>SG_UF_NOT</th>\n",
              "      <th>DT_SIN_PRI</th>\n",
              "      <th>ANO_NASC</th>\n",
              "      <th>NU_IDADE_N</th>\n",
              "      <th>CS_SEXO</th>\n",
              "      <th>CS_GESTANT</th>\n",
              "      <th>CS_RACA</th>\n",
              "      <th>CS_ESCOL_N</th>\n",
              "      <th>...</th>\n",
              "      <th>LACO</th>\n",
              "      <th>DOR_RETRO</th>\n",
              "      <th>DIABETES</th>\n",
              "      <th>HEMATOLOG</th>\n",
              "      <th>HEPATOPAT</th>\n",
              "      <th>RENAL</th>\n",
              "      <th>HIPERTENSA</th>\n",
              "      <th>ACIDO_PEPT</th>\n",
              "      <th>AUTO_IMUNE</th>\n",
              "      <th>Faixa Etária</th>\n",
              "    </tr>\n",
              "  </thead>\n",
              "  <tbody>\n",
              "    <tr>\n",
              "      <th>0</th>\n",
              "      <td>2023-01-01</td>\n",
              "      <td>120070</td>\n",
              "      <td>12</td>\n",
              "      <td>2023-01-01</td>\n",
              "      <td>2005.0</td>\n",
              "      <td>17.0</td>\n",
              "      <td>F</td>\n",
              "      <td>Não</td>\n",
              "      <td>Parda</td>\n",
              "      <td>Ignorado</td>\n",
              "      <td>...</td>\n",
              "      <td>Não</td>\n",
              "      <td>Sim</td>\n",
              "      <td>Não</td>\n",
              "      <td>Não</td>\n",
              "      <td>Não</td>\n",
              "      <td>Não</td>\n",
              "      <td>Não</td>\n",
              "      <td>Não</td>\n",
              "      <td>Não</td>\n",
              "      <td>15 a 19</td>\n",
              "    </tr>\n",
              "    <tr>\n",
              "      <th>1</th>\n",
              "      <td>2023-01-02</td>\n",
              "      <td>120005</td>\n",
              "      <td>12</td>\n",
              "      <td>2023-01-01</td>\n",
              "      <td>1971.0</td>\n",
              "      <td>51.0</td>\n",
              "      <td>F</td>\n",
              "      <td>Não</td>\n",
              "      <td>Ignorado</td>\n",
              "      <td>Ignorado</td>\n",
              "      <td>...</td>\n",
              "      <td>Não</td>\n",
              "      <td>Sim</td>\n",
              "      <td>Não</td>\n",
              "      <td>Não</td>\n",
              "      <td>Não</td>\n",
              "      <td>Não</td>\n",
              "      <td>Não</td>\n",
              "      <td>Não</td>\n",
              "      <td>Não</td>\n",
              "      <td>50 a 54</td>\n",
              "    </tr>\n",
              "    <tr>\n",
              "      <th>2</th>\n",
              "      <td>2023-01-02</td>\n",
              "      <td>120005</td>\n",
              "      <td>12</td>\n",
              "      <td>2023-01-01</td>\n",
              "      <td>1995.0</td>\n",
              "      <td>27.0</td>\n",
              "      <td>F</td>\n",
              "      <td>Ignorado</td>\n",
              "      <td>Ignorado</td>\n",
              "      <td>Ignorado</td>\n",
              "      <td>...</td>\n",
              "      <td>Não</td>\n",
              "      <td>Não</td>\n",
              "      <td>Não</td>\n",
              "      <td>Não</td>\n",
              "      <td>Não</td>\n",
              "      <td>Não</td>\n",
              "      <td>Não</td>\n",
              "      <td>Não</td>\n",
              "      <td>Não</td>\n",
              "      <td>25 a 29</td>\n",
              "    </tr>\n",
              "    <tr>\n",
              "      <th>3</th>\n",
              "      <td>2023-01-02</td>\n",
              "      <td>120030</td>\n",
              "      <td>12</td>\n",
              "      <td>2023-01-01</td>\n",
              "      <td>2002.0</td>\n",
              "      <td>20.0</td>\n",
              "      <td>M</td>\n",
              "      <td>Não se aplica</td>\n",
              "      <td>Parda</td>\n",
              "      <td>Ignorado</td>\n",
              "      <td>...</td>\n",
              "      <td>Não</td>\n",
              "      <td>Não</td>\n",
              "      <td>Não</td>\n",
              "      <td>Não</td>\n",
              "      <td>Não</td>\n",
              "      <td>Não</td>\n",
              "      <td>Não</td>\n",
              "      <td>Não</td>\n",
              "      <td>Não</td>\n",
              "      <td>20 a 24</td>\n",
              "    </tr>\n",
              "    <tr>\n",
              "      <th>4</th>\n",
              "      <td>2023-01-02</td>\n",
              "      <td>120005</td>\n",
              "      <td>12</td>\n",
              "      <td>2023-01-02</td>\n",
              "      <td>1990.0</td>\n",
              "      <td>32.0</td>\n",
              "      <td>M</td>\n",
              "      <td>Não se aplica</td>\n",
              "      <td>Ignorado</td>\n",
              "      <td>Ignorado</td>\n",
              "      <td>...</td>\n",
              "      <td>Não</td>\n",
              "      <td>Não</td>\n",
              "      <td>Não</td>\n",
              "      <td>Não</td>\n",
              "      <td>Não</td>\n",
              "      <td>Não</td>\n",
              "      <td>Não</td>\n",
              "      <td>Não</td>\n",
              "      <td>Não</td>\n",
              "      <td>30 a 34</td>\n",
              "    </tr>\n",
              "  </tbody>\n",
              "</table>\n",
              "<p>5 rows × 35 columns</p>\n",
              "</div>"
            ],
            "text/plain": [
              "  DT_NOTIFIC  ID_MUNICIP  SG_UF_NOT DT_SIN_PRI  ANO_NASC  NU_IDADE_N CS_SEXO  \\\n",
              "0 2023-01-01      120070         12 2023-01-01    2005.0        17.0       F   \n",
              "1 2023-01-02      120005         12 2023-01-01    1971.0        51.0       F   \n",
              "2 2023-01-02      120005         12 2023-01-01    1995.0        27.0       F   \n",
              "3 2023-01-02      120030         12 2023-01-01    2002.0        20.0       M   \n",
              "4 2023-01-02      120005         12 2023-01-02    1990.0        32.0       M   \n",
              "\n",
              "      CS_GESTANT   CS_RACA CS_ESCOL_N  ...  LACO  DOR_RETRO DIABETES  \\\n",
              "0            Não     Parda   Ignorado  ...   Não        Sim      Não   \n",
              "1            Não  Ignorado   Ignorado  ...   Não        Sim      Não   \n",
              "2       Ignorado  Ignorado   Ignorado  ...   Não        Não      Não   \n",
              "3  Não se aplica     Parda   Ignorado  ...   Não        Não      Não   \n",
              "4  Não se aplica  Ignorado   Ignorado  ...   Não        Não      Não   \n",
              "\n",
              "  HEMATOLOG HEPATOPAT RENAL HIPERTENSA ACIDO_PEPT AUTO_IMUNE Faixa Etária  \n",
              "0       Não       Não   Não        Não        Não        Não      15 a 19  \n",
              "1       Não       Não   Não        Não        Não        Não      50 a 54  \n",
              "2       Não       Não   Não        Não        Não        Não      25 a 29  \n",
              "3       Não       Não   Não        Não        Não        Não      20 a 24  \n",
              "4       Não       Não   Não        Não        Não        Não      30 a 34  \n",
              "\n",
              "[5 rows x 35 columns]"
            ]
          },
          "execution_count": 140,
          "metadata": {},
          "output_type": "execute_result"
        }
      ],
      "source": [
        "df.loc[:, 'Faixa Etária'] = df['NU_IDADE_N'].apply(definir_faixa_etaria)\n",
        "df.head()"
      ]
    },
    {
      "cell_type": "code",
      "execution_count": null,
      "metadata": {},
      "outputs": [],
      "source": [
        "df_nulo = df[df['NU_IDADE_N'].isnull()]\n",
        "df_nulo"
      ]
    },
    {
      "cell_type": "code",
      "execution_count": 142,
      "metadata": {},
      "outputs": [],
      "source": [
        "df.dropna(subset = \"NU_IDADE_N\", inplace=True)"
      ]
    },
    {
      "cell_type": "code",
      "execution_count": 143,
      "metadata": {},
      "outputs": [
        {
          "data": {
            "text/plain": [
              "0"
            ]
          },
          "execution_count": 143,
          "metadata": {},
          "output_type": "execute_result"
        }
      ],
      "source": [
        "df['NU_IDADE_N'].isnull().sum()"
      ]
    },
    {
      "cell_type": "markdown",
      "metadata": {},
      "source": [
        "### Tratamento Sexo"
      ]
    },
    {
      "cell_type": "code",
      "execution_count": 144,
      "metadata": {},
      "outputs": [
        {
          "name": "stderr",
          "output_type": "stream",
          "text": [
            "C:\\Users\\Gamer\\AppData\\Local\\Temp\\ipykernel_17820\\1236526691.py:1: FutureWarning: A value is trying to be set on a copy of a DataFrame or Series through chained assignment using an inplace method.\n",
            "The behavior will change in pandas 3.0. This inplace method will never work because the intermediate object on which we are setting values always behaves as a copy.\n",
            "\n",
            "For example, when doing 'df[col].method(value, inplace=True)', try using 'df.method({col: value}, inplace=True)' or df[col] = df[col].method(value) instead, to perform the operation inplace on the original object.\n",
            "\n",
            "\n",
            "  df['CS_SEXO'].replace({'M':'Masculino', 'F':'Feminino', 'I':'Ignorado'},inplace=True)\n"
          ]
        }
      ],
      "source": [
        "df['CS_SEXO'].replace({'M':'Masculino', 'F':'Feminino', 'I':'Ignorado'},inplace=True)"
      ]
    },
    {
      "cell_type": "code",
      "execution_count": 145,
      "metadata": {},
      "outputs": [],
      "source": [
        "df['CS_SEXO'].fillna('Ignorado', inplace=True)"
      ]
    },
    {
      "cell_type": "code",
      "execution_count": 146,
      "metadata": {},
      "outputs": [
        {
          "data": {
            "text/plain": [
              "0"
            ]
          },
          "execution_count": 146,
          "metadata": {},
          "output_type": "execute_result"
        }
      ],
      "source": [
        "df['CS_SEXO'].isnull().sum()"
      ]
    },
    {
      "cell_type": "markdown",
      "metadata": {},
      "source": [
        "### Exportando para CSV"
      ]
    },
    {
      "cell_type": "code",
      "execution_count": 149,
      "metadata": {},
      "outputs": [
        {
          "data": {
            "text/html": [
              "<div>\n",
              "<style scoped>\n",
              "    .dataframe tbody tr th:only-of-type {\n",
              "        vertical-align: middle;\n",
              "    }\n",
              "\n",
              "    .dataframe tbody tr th {\n",
              "        vertical-align: top;\n",
              "    }\n",
              "\n",
              "    .dataframe thead th {\n",
              "        text-align: right;\n",
              "    }\n",
              "</style>\n",
              "<table border=\"1\" class=\"dataframe\">\n",
              "  <thead>\n",
              "    <tr style=\"text-align: right;\">\n",
              "      <th></th>\n",
              "      <th>DT_NOTIFIC</th>\n",
              "      <th>ID_MUNICIP</th>\n",
              "      <th>SG_UF_NOT</th>\n",
              "      <th>DT_SIN_PRI</th>\n",
              "      <th>ANO_NASC</th>\n",
              "      <th>NU_IDADE_N</th>\n",
              "      <th>CS_SEXO</th>\n",
              "      <th>CS_GESTANT</th>\n",
              "      <th>CS_RACA</th>\n",
              "      <th>CS_ESCOL_N</th>\n",
              "      <th>...</th>\n",
              "      <th>LACO</th>\n",
              "      <th>DOR_RETRO</th>\n",
              "      <th>DIABETES</th>\n",
              "      <th>HEMATOLOG</th>\n",
              "      <th>HEPATOPAT</th>\n",
              "      <th>RENAL</th>\n",
              "      <th>HIPERTENSA</th>\n",
              "      <th>ACIDO_PEPT</th>\n",
              "      <th>AUTO_IMUNE</th>\n",
              "      <th>Faixa Etária</th>\n",
              "    </tr>\n",
              "  </thead>\n",
              "  <tbody>\n",
              "    <tr>\n",
              "      <th>0</th>\n",
              "      <td>2023-01-01</td>\n",
              "      <td>120070</td>\n",
              "      <td>12</td>\n",
              "      <td>2023-01-01</td>\n",
              "      <td>2005.0</td>\n",
              "      <td>17.0</td>\n",
              "      <td>Feminino</td>\n",
              "      <td>Não</td>\n",
              "      <td>Parda</td>\n",
              "      <td>Ignorado</td>\n",
              "      <td>...</td>\n",
              "      <td>Não</td>\n",
              "      <td>Sim</td>\n",
              "      <td>Não</td>\n",
              "      <td>Não</td>\n",
              "      <td>Não</td>\n",
              "      <td>Não</td>\n",
              "      <td>Não</td>\n",
              "      <td>Não</td>\n",
              "      <td>Não</td>\n",
              "      <td>15 a 19</td>\n",
              "    </tr>\n",
              "    <tr>\n",
              "      <th>1</th>\n",
              "      <td>2023-01-02</td>\n",
              "      <td>120005</td>\n",
              "      <td>12</td>\n",
              "      <td>2023-01-01</td>\n",
              "      <td>1971.0</td>\n",
              "      <td>51.0</td>\n",
              "      <td>Feminino</td>\n",
              "      <td>Não</td>\n",
              "      <td>Ignorado</td>\n",
              "      <td>Ignorado</td>\n",
              "      <td>...</td>\n",
              "      <td>Não</td>\n",
              "      <td>Sim</td>\n",
              "      <td>Não</td>\n",
              "      <td>Não</td>\n",
              "      <td>Não</td>\n",
              "      <td>Não</td>\n",
              "      <td>Não</td>\n",
              "      <td>Não</td>\n",
              "      <td>Não</td>\n",
              "      <td>50 a 54</td>\n",
              "    </tr>\n",
              "    <tr>\n",
              "      <th>2</th>\n",
              "      <td>2023-01-02</td>\n",
              "      <td>120005</td>\n",
              "      <td>12</td>\n",
              "      <td>2023-01-01</td>\n",
              "      <td>1995.0</td>\n",
              "      <td>27.0</td>\n",
              "      <td>Feminino</td>\n",
              "      <td>Ignorado</td>\n",
              "      <td>Ignorado</td>\n",
              "      <td>Ignorado</td>\n",
              "      <td>...</td>\n",
              "      <td>Não</td>\n",
              "      <td>Não</td>\n",
              "      <td>Não</td>\n",
              "      <td>Não</td>\n",
              "      <td>Não</td>\n",
              "      <td>Não</td>\n",
              "      <td>Não</td>\n",
              "      <td>Não</td>\n",
              "      <td>Não</td>\n",
              "      <td>25 a 29</td>\n",
              "    </tr>\n",
              "    <tr>\n",
              "      <th>3</th>\n",
              "      <td>2023-01-02</td>\n",
              "      <td>120030</td>\n",
              "      <td>12</td>\n",
              "      <td>2023-01-01</td>\n",
              "      <td>2002.0</td>\n",
              "      <td>20.0</td>\n",
              "      <td>Masculino</td>\n",
              "      <td>Não se aplica</td>\n",
              "      <td>Parda</td>\n",
              "      <td>Ignorado</td>\n",
              "      <td>...</td>\n",
              "      <td>Não</td>\n",
              "      <td>Não</td>\n",
              "      <td>Não</td>\n",
              "      <td>Não</td>\n",
              "      <td>Não</td>\n",
              "      <td>Não</td>\n",
              "      <td>Não</td>\n",
              "      <td>Não</td>\n",
              "      <td>Não</td>\n",
              "      <td>20 a 24</td>\n",
              "    </tr>\n",
              "    <tr>\n",
              "      <th>4</th>\n",
              "      <td>2023-01-02</td>\n",
              "      <td>120005</td>\n",
              "      <td>12</td>\n",
              "      <td>2023-01-02</td>\n",
              "      <td>1990.0</td>\n",
              "      <td>32.0</td>\n",
              "      <td>Masculino</td>\n",
              "      <td>Não se aplica</td>\n",
              "      <td>Ignorado</td>\n",
              "      <td>Ignorado</td>\n",
              "      <td>...</td>\n",
              "      <td>Não</td>\n",
              "      <td>Não</td>\n",
              "      <td>Não</td>\n",
              "      <td>Não</td>\n",
              "      <td>Não</td>\n",
              "      <td>Não</td>\n",
              "      <td>Não</td>\n",
              "      <td>Não</td>\n",
              "      <td>Não</td>\n",
              "      <td>30 a 34</td>\n",
              "    </tr>\n",
              "  </tbody>\n",
              "</table>\n",
              "<p>5 rows × 35 columns</p>\n",
              "</div>"
            ],
            "text/plain": [
              "  DT_NOTIFIC  ID_MUNICIP  SG_UF_NOT DT_SIN_PRI  ANO_NASC  NU_IDADE_N  \\\n",
              "0 2023-01-01      120070         12 2023-01-01    2005.0        17.0   \n",
              "1 2023-01-02      120005         12 2023-01-01    1971.0        51.0   \n",
              "2 2023-01-02      120005         12 2023-01-01    1995.0        27.0   \n",
              "3 2023-01-02      120030         12 2023-01-01    2002.0        20.0   \n",
              "4 2023-01-02      120005         12 2023-01-02    1990.0        32.0   \n",
              "\n",
              "     CS_SEXO     CS_GESTANT   CS_RACA CS_ESCOL_N  ...  LACO  DOR_RETRO  \\\n",
              "0   Feminino            Não     Parda   Ignorado  ...   Não        Sim   \n",
              "1   Feminino            Não  Ignorado   Ignorado  ...   Não        Sim   \n",
              "2   Feminino       Ignorado  Ignorado   Ignorado  ...   Não        Não   \n",
              "3  Masculino  Não se aplica     Parda   Ignorado  ...   Não        Não   \n",
              "4  Masculino  Não se aplica  Ignorado   Ignorado  ...   Não        Não   \n",
              "\n",
              "  DIABETES HEMATOLOG HEPATOPAT RENAL HIPERTENSA ACIDO_PEPT AUTO_IMUNE  \\\n",
              "0      Não       Não       Não   Não        Não        Não        Não   \n",
              "1      Não       Não       Não   Não        Não        Não        Não   \n",
              "2      Não       Não       Não   Não        Não        Não        Não   \n",
              "3      Não       Não       Não   Não        Não        Não        Não   \n",
              "4      Não       Não       Não   Não        Não        Não        Não   \n",
              "\n",
              "  Faixa Etária  \n",
              "0      15 a 19  \n",
              "1      50 a 54  \n",
              "2      25 a 29  \n",
              "3      20 a 24  \n",
              "4      30 a 34  \n",
              "\n",
              "[5 rows x 35 columns]"
            ]
          },
          "execution_count": 149,
          "metadata": {},
          "output_type": "execute_result"
        }
      ],
      "source": [
        "df.head()"
      ]
    },
    {
      "cell_type": "code",
      "execution_count": 150,
      "metadata": {
        "id": "wdu23uA2d_ax"
      },
      "outputs": [],
      "source": [
        "df.to_csv('dengue_resumido_V3.csv',sep=';',index=False)\n"
      ]
    },
    {
      "cell_type": "code",
      "execution_count": 151,
      "metadata": {
        "colab": {
          "base_uri": "https://localhost:8080/",
          "height": 290
        },
        "id": "_S0mBTf6ej4a",
        "outputId": "88f6251d-ed90-454f-c23d-fa84e0f10667"
      },
      "outputs": [
        {
          "data": {
            "text/html": [
              "<div>\n",
              "<style scoped>\n",
              "    .dataframe tbody tr th:only-of-type {\n",
              "        vertical-align: middle;\n",
              "    }\n",
              "\n",
              "    .dataframe tbody tr th {\n",
              "        vertical-align: top;\n",
              "    }\n",
              "\n",
              "    .dataframe thead th {\n",
              "        text-align: right;\n",
              "    }\n",
              "</style>\n",
              "<table border=\"1\" class=\"dataframe\">\n",
              "  <thead>\n",
              "    <tr style=\"text-align: right;\">\n",
              "      <th></th>\n",
              "      <th>DT_NOTIFIC</th>\n",
              "      <th>ID_MUNICIP</th>\n",
              "      <th>SG_UF_NOT</th>\n",
              "      <th>DT_SIN_PRI</th>\n",
              "      <th>ANO_NASC</th>\n",
              "      <th>NU_IDADE_N</th>\n",
              "      <th>CS_SEXO</th>\n",
              "      <th>CS_GESTANT</th>\n",
              "      <th>CS_RACA</th>\n",
              "      <th>CS_ESCOL_N</th>\n",
              "      <th>...</th>\n",
              "      <th>LACO</th>\n",
              "      <th>DOR_RETRO</th>\n",
              "      <th>DIABETES</th>\n",
              "      <th>HEMATOLOG</th>\n",
              "      <th>HEPATOPAT</th>\n",
              "      <th>RENAL</th>\n",
              "      <th>HIPERTENSA</th>\n",
              "      <th>ACIDO_PEPT</th>\n",
              "      <th>AUTO_IMUNE</th>\n",
              "      <th>Faixa Etária</th>\n",
              "    </tr>\n",
              "  </thead>\n",
              "  <tbody>\n",
              "    <tr>\n",
              "      <th>0</th>\n",
              "      <td>2023-01-01</td>\n",
              "      <td>120070</td>\n",
              "      <td>12</td>\n",
              "      <td>2023-01-01</td>\n",
              "      <td>2005.0</td>\n",
              "      <td>17.0</td>\n",
              "      <td>Feminino</td>\n",
              "      <td>Não</td>\n",
              "      <td>Parda</td>\n",
              "      <td>Ignorado</td>\n",
              "      <td>...</td>\n",
              "      <td>Não</td>\n",
              "      <td>Sim</td>\n",
              "      <td>Não</td>\n",
              "      <td>Não</td>\n",
              "      <td>Não</td>\n",
              "      <td>Não</td>\n",
              "      <td>Não</td>\n",
              "      <td>Não</td>\n",
              "      <td>Não</td>\n",
              "      <td>15 a 19</td>\n",
              "    </tr>\n",
              "    <tr>\n",
              "      <th>1</th>\n",
              "      <td>2023-01-02</td>\n",
              "      <td>120005</td>\n",
              "      <td>12</td>\n",
              "      <td>2023-01-01</td>\n",
              "      <td>1971.0</td>\n",
              "      <td>51.0</td>\n",
              "      <td>Feminino</td>\n",
              "      <td>Não</td>\n",
              "      <td>Ignorado</td>\n",
              "      <td>Ignorado</td>\n",
              "      <td>...</td>\n",
              "      <td>Não</td>\n",
              "      <td>Sim</td>\n",
              "      <td>Não</td>\n",
              "      <td>Não</td>\n",
              "      <td>Não</td>\n",
              "      <td>Não</td>\n",
              "      <td>Não</td>\n",
              "      <td>Não</td>\n",
              "      <td>Não</td>\n",
              "      <td>50 a 54</td>\n",
              "    </tr>\n",
              "    <tr>\n",
              "      <th>2</th>\n",
              "      <td>2023-01-02</td>\n",
              "      <td>120005</td>\n",
              "      <td>12</td>\n",
              "      <td>2023-01-01</td>\n",
              "      <td>1995.0</td>\n",
              "      <td>27.0</td>\n",
              "      <td>Feminino</td>\n",
              "      <td>Ignorado</td>\n",
              "      <td>Ignorado</td>\n",
              "      <td>Ignorado</td>\n",
              "      <td>...</td>\n",
              "      <td>Não</td>\n",
              "      <td>Não</td>\n",
              "      <td>Não</td>\n",
              "      <td>Não</td>\n",
              "      <td>Não</td>\n",
              "      <td>Não</td>\n",
              "      <td>Não</td>\n",
              "      <td>Não</td>\n",
              "      <td>Não</td>\n",
              "      <td>25 a 29</td>\n",
              "    </tr>\n",
              "    <tr>\n",
              "      <th>3</th>\n",
              "      <td>2023-01-02</td>\n",
              "      <td>120030</td>\n",
              "      <td>12</td>\n",
              "      <td>2023-01-01</td>\n",
              "      <td>2002.0</td>\n",
              "      <td>20.0</td>\n",
              "      <td>Masculino</td>\n",
              "      <td>Não se aplica</td>\n",
              "      <td>Parda</td>\n",
              "      <td>Ignorado</td>\n",
              "      <td>...</td>\n",
              "      <td>Não</td>\n",
              "      <td>Não</td>\n",
              "      <td>Não</td>\n",
              "      <td>Não</td>\n",
              "      <td>Não</td>\n",
              "      <td>Não</td>\n",
              "      <td>Não</td>\n",
              "      <td>Não</td>\n",
              "      <td>Não</td>\n",
              "      <td>20 a 24</td>\n",
              "    </tr>\n",
              "    <tr>\n",
              "      <th>4</th>\n",
              "      <td>2023-01-02</td>\n",
              "      <td>120005</td>\n",
              "      <td>12</td>\n",
              "      <td>2023-01-02</td>\n",
              "      <td>1990.0</td>\n",
              "      <td>32.0</td>\n",
              "      <td>Masculino</td>\n",
              "      <td>Não se aplica</td>\n",
              "      <td>Ignorado</td>\n",
              "      <td>Ignorado</td>\n",
              "      <td>...</td>\n",
              "      <td>Não</td>\n",
              "      <td>Não</td>\n",
              "      <td>Não</td>\n",
              "      <td>Não</td>\n",
              "      <td>Não</td>\n",
              "      <td>Não</td>\n",
              "      <td>Não</td>\n",
              "      <td>Não</td>\n",
              "      <td>Não</td>\n",
              "      <td>30 a 34</td>\n",
              "    </tr>\n",
              "  </tbody>\n",
              "</table>\n",
              "<p>5 rows × 35 columns</p>\n",
              "</div>"
            ],
            "text/plain": [
              "   DT_NOTIFIC  ID_MUNICIP  SG_UF_NOT  DT_SIN_PRI  ANO_NASC  NU_IDADE_N  \\\n",
              "0  2023-01-01      120070         12  2023-01-01    2005.0        17.0   \n",
              "1  2023-01-02      120005         12  2023-01-01    1971.0        51.0   \n",
              "2  2023-01-02      120005         12  2023-01-01    1995.0        27.0   \n",
              "3  2023-01-02      120030         12  2023-01-01    2002.0        20.0   \n",
              "4  2023-01-02      120005         12  2023-01-02    1990.0        32.0   \n",
              "\n",
              "     CS_SEXO     CS_GESTANT   CS_RACA CS_ESCOL_N  ...  LACO  DOR_RETRO  \\\n",
              "0   Feminino            Não     Parda   Ignorado  ...   Não        Sim   \n",
              "1   Feminino            Não  Ignorado   Ignorado  ...   Não        Sim   \n",
              "2   Feminino       Ignorado  Ignorado   Ignorado  ...   Não        Não   \n",
              "3  Masculino  Não se aplica     Parda   Ignorado  ...   Não        Não   \n",
              "4  Masculino  Não se aplica  Ignorado   Ignorado  ...   Não        Não   \n",
              "\n",
              "  DIABETES HEMATOLOG HEPATOPAT RENAL HIPERTENSA ACIDO_PEPT AUTO_IMUNE  \\\n",
              "0      Não       Não       Não   Não        Não        Não        Não   \n",
              "1      Não       Não       Não   Não        Não        Não        Não   \n",
              "2      Não       Não       Não   Não        Não        Não        Não   \n",
              "3      Não       Não       Não   Não        Não        Não        Não   \n",
              "4      Não       Não       Não   Não        Não        Não        Não   \n",
              "\n",
              "  Faixa Etária  \n",
              "0      15 a 19  \n",
              "1      50 a 54  \n",
              "2      25 a 29  \n",
              "3      20 a 24  \n",
              "4      30 a 34  \n",
              "\n",
              "[5 rows x 35 columns]"
            ]
          },
          "execution_count": 151,
          "metadata": {},
          "output_type": "execute_result"
        }
      ],
      "source": [
        "df2 = pd.read_csv('dengue_resumido_V3.csv',sep=';')\n",
        "df2.head()"
      ]
    }
  ],
  "metadata": {
    "colab": {
      "provenance": []
    },
    "kernelspec": {
      "display_name": "Python 3",
      "name": "python3"
    },
    "language_info": {
      "codemirror_mode": {
        "name": "ipython",
        "version": 3
      },
      "file_extension": ".py",
      "mimetype": "text/x-python",
      "name": "python",
      "nbconvert_exporter": "python",
      "pygments_lexer": "ipython3",
      "version": "3.10.5"
    }
  },
  "nbformat": 4,
  "nbformat_minor": 0
}
