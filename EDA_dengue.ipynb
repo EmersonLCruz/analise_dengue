{
 "cells": [
  {
   "cell_type": "markdown",
   "metadata": {},
   "source": [
    "# **ANÁLISE SOCIOECONÔMICA DOS CASOS DE DENGUE NO BRASIL - 2023**"
   ]
  },
  {
   "cell_type": "markdown",
   "metadata": {},
   "source": [
    "## **1. Importando bibliotecas**"
   ]
  },
  {
   "cell_type": "code",
   "execution_count": 6,
   "metadata": {},
   "outputs": [],
   "source": [
    "import pandas as pd\n",
    "import numpy as np\n",
    "import matplotlib.pyplot as plt\n",
    "import seaborn as sns"
   ]
  },
  {
   "cell_type": "markdown",
   "metadata": {},
   "source": [
    "## **2. Importando Dataset e Tratamentos Preliminares**"
   ]
  },
  {
   "cell_type": "code",
   "execution_count": 7,
   "metadata": {},
   "outputs": [
    {
     "data": {
      "text/html": [
       "<div>\n",
       "<style scoped>\n",
       "    .dataframe tbody tr th:only-of-type {\n",
       "        vertical-align: middle;\n",
       "    }\n",
       "\n",
       "    .dataframe tbody tr th {\n",
       "        vertical-align: top;\n",
       "    }\n",
       "\n",
       "    .dataframe thead th {\n",
       "        text-align: right;\n",
       "    }\n",
       "</style>\n",
       "<table border=\"1\" class=\"dataframe\">\n",
       "  <thead>\n",
       "    <tr style=\"text-align: right;\">\n",
       "      <th></th>\n",
       "      <th>DT_NOTIFIC</th>\n",
       "      <th>ID_MUNICIP</th>\n",
       "      <th>SG_UF_NOT</th>\n",
       "      <th>DT_SIN_PRI</th>\n",
       "      <th>ANO_NASC</th>\n",
       "      <th>NU_IDADE_N</th>\n",
       "      <th>CS_SEXO</th>\n",
       "      <th>CS_GESTANT</th>\n",
       "      <th>CS_RACA</th>\n",
       "      <th>CS_ESCOL_N</th>\n",
       "      <th>...</th>\n",
       "      <th>LACO</th>\n",
       "      <th>DOR_RETRO</th>\n",
       "      <th>DIABETES</th>\n",
       "      <th>HEMATOLOG</th>\n",
       "      <th>HEPATOPAT</th>\n",
       "      <th>RENAL</th>\n",
       "      <th>HIPERTENSA</th>\n",
       "      <th>ACIDO_PEPT</th>\n",
       "      <th>AUTO_IMUNE</th>\n",
       "      <th>Faixa Etária</th>\n",
       "    </tr>\n",
       "  </thead>\n",
       "  <tbody>\n",
       "    <tr>\n",
       "      <th>0</th>\n",
       "      <td>2023-01-01</td>\n",
       "      <td>120070</td>\n",
       "      <td>12</td>\n",
       "      <td>2023-01-01</td>\n",
       "      <td>2005.0</td>\n",
       "      <td>17.0</td>\n",
       "      <td>Feminino</td>\n",
       "      <td>Não</td>\n",
       "      <td>Parda</td>\n",
       "      <td>Ignorado</td>\n",
       "      <td>...</td>\n",
       "      <td>Não</td>\n",
       "      <td>Sim</td>\n",
       "      <td>Não</td>\n",
       "      <td>Não</td>\n",
       "      <td>Não</td>\n",
       "      <td>Não</td>\n",
       "      <td>Não</td>\n",
       "      <td>Não</td>\n",
       "      <td>Não</td>\n",
       "      <td>15 a 19</td>\n",
       "    </tr>\n",
       "    <tr>\n",
       "      <th>1</th>\n",
       "      <td>2023-01-02</td>\n",
       "      <td>120005</td>\n",
       "      <td>12</td>\n",
       "      <td>2023-01-01</td>\n",
       "      <td>1971.0</td>\n",
       "      <td>51.0</td>\n",
       "      <td>Feminino</td>\n",
       "      <td>Não</td>\n",
       "      <td>Ignorado</td>\n",
       "      <td>Ignorado</td>\n",
       "      <td>...</td>\n",
       "      <td>Não</td>\n",
       "      <td>Sim</td>\n",
       "      <td>Não</td>\n",
       "      <td>Não</td>\n",
       "      <td>Não</td>\n",
       "      <td>Não</td>\n",
       "      <td>Não</td>\n",
       "      <td>Não</td>\n",
       "      <td>Não</td>\n",
       "      <td>50 a 54</td>\n",
       "    </tr>\n",
       "    <tr>\n",
       "      <th>2</th>\n",
       "      <td>2023-01-02</td>\n",
       "      <td>120005</td>\n",
       "      <td>12</td>\n",
       "      <td>2023-01-01</td>\n",
       "      <td>1995.0</td>\n",
       "      <td>27.0</td>\n",
       "      <td>Feminino</td>\n",
       "      <td>Ignorado</td>\n",
       "      <td>Ignorado</td>\n",
       "      <td>Ignorado</td>\n",
       "      <td>...</td>\n",
       "      <td>Não</td>\n",
       "      <td>Não</td>\n",
       "      <td>Não</td>\n",
       "      <td>Não</td>\n",
       "      <td>Não</td>\n",
       "      <td>Não</td>\n",
       "      <td>Não</td>\n",
       "      <td>Não</td>\n",
       "      <td>Não</td>\n",
       "      <td>25 a 29</td>\n",
       "    </tr>\n",
       "    <tr>\n",
       "      <th>3</th>\n",
       "      <td>2023-01-02</td>\n",
       "      <td>120030</td>\n",
       "      <td>12</td>\n",
       "      <td>2023-01-01</td>\n",
       "      <td>2002.0</td>\n",
       "      <td>20.0</td>\n",
       "      <td>Masculino</td>\n",
       "      <td>Não se aplica</td>\n",
       "      <td>Parda</td>\n",
       "      <td>Ignorado</td>\n",
       "      <td>...</td>\n",
       "      <td>Não</td>\n",
       "      <td>Não</td>\n",
       "      <td>Não</td>\n",
       "      <td>Não</td>\n",
       "      <td>Não</td>\n",
       "      <td>Não</td>\n",
       "      <td>Não</td>\n",
       "      <td>Não</td>\n",
       "      <td>Não</td>\n",
       "      <td>20 a 24</td>\n",
       "    </tr>\n",
       "    <tr>\n",
       "      <th>4</th>\n",
       "      <td>2023-01-02</td>\n",
       "      <td>120005</td>\n",
       "      <td>12</td>\n",
       "      <td>2023-01-02</td>\n",
       "      <td>1990.0</td>\n",
       "      <td>32.0</td>\n",
       "      <td>Masculino</td>\n",
       "      <td>Não se aplica</td>\n",
       "      <td>Ignorado</td>\n",
       "      <td>Ignorado</td>\n",
       "      <td>...</td>\n",
       "      <td>Não</td>\n",
       "      <td>Não</td>\n",
       "      <td>Não</td>\n",
       "      <td>Não</td>\n",
       "      <td>Não</td>\n",
       "      <td>Não</td>\n",
       "      <td>Não</td>\n",
       "      <td>Não</td>\n",
       "      <td>Não</td>\n",
       "      <td>30 a 34</td>\n",
       "    </tr>\n",
       "    <tr>\n",
       "      <th>...</th>\n",
       "      <td>...</td>\n",
       "      <td>...</td>\n",
       "      <td>...</td>\n",
       "      <td>...</td>\n",
       "      <td>...</td>\n",
       "      <td>...</td>\n",
       "      <td>...</td>\n",
       "      <td>...</td>\n",
       "      <td>...</td>\n",
       "      <td>...</td>\n",
       "      <td>...</td>\n",
       "      <td>...</td>\n",
       "      <td>...</td>\n",
       "      <td>...</td>\n",
       "      <td>...</td>\n",
       "      <td>...</td>\n",
       "      <td>...</td>\n",
       "      <td>...</td>\n",
       "      <td>...</td>\n",
       "      <td>...</td>\n",
       "      <td>...</td>\n",
       "    </tr>\n",
       "    <tr>\n",
       "      <th>1505434</th>\n",
       "      <td>2023-12-28</td>\n",
       "      <td>172120</td>\n",
       "      <td>17</td>\n",
       "      <td>2023-12-26</td>\n",
       "      <td>1986.0</td>\n",
       "      <td>37.0</td>\n",
       "      <td>Feminino</td>\n",
       "      <td>Não</td>\n",
       "      <td>Parda</td>\n",
       "      <td>Ensino superior completo</td>\n",
       "      <td>...</td>\n",
       "      <td>Não</td>\n",
       "      <td>Não</td>\n",
       "      <td>Não</td>\n",
       "      <td>Não</td>\n",
       "      <td>Não</td>\n",
       "      <td>Não</td>\n",
       "      <td>Não</td>\n",
       "      <td>Não</td>\n",
       "      <td>Não</td>\n",
       "      <td>35 a 39</td>\n",
       "    </tr>\n",
       "    <tr>\n",
       "      <th>1505435</th>\n",
       "      <td>2023-12-29</td>\n",
       "      <td>170700</td>\n",
       "      <td>17</td>\n",
       "      <td>2023-12-28</td>\n",
       "      <td>1984.0</td>\n",
       "      <td>39.0</td>\n",
       "      <td>Feminino</td>\n",
       "      <td>Não</td>\n",
       "      <td>Parda</td>\n",
       "      <td>Ensino Médio completo</td>\n",
       "      <td>...</td>\n",
       "      <td>Não</td>\n",
       "      <td>Sim</td>\n",
       "      <td>Não</td>\n",
       "      <td>Não</td>\n",
       "      <td>Não</td>\n",
       "      <td>Não</td>\n",
       "      <td>Não</td>\n",
       "      <td>Sim</td>\n",
       "      <td>Não</td>\n",
       "      <td>35 a 39</td>\n",
       "    </tr>\n",
       "    <tr>\n",
       "      <th>1505436</th>\n",
       "      <td>2023-12-29</td>\n",
       "      <td>170820</td>\n",
       "      <td>17</td>\n",
       "      <td>2023-12-25</td>\n",
       "      <td>1971.0</td>\n",
       "      <td>52.0</td>\n",
       "      <td>Feminino</td>\n",
       "      <td>Não se aplica</td>\n",
       "      <td>Preta</td>\n",
       "      <td>Fundamental completo</td>\n",
       "      <td>...</td>\n",
       "      <td>Não</td>\n",
       "      <td>Não</td>\n",
       "      <td>Não</td>\n",
       "      <td>Não</td>\n",
       "      <td>Não</td>\n",
       "      <td>Não</td>\n",
       "      <td>Sim</td>\n",
       "      <td>Não</td>\n",
       "      <td>Não</td>\n",
       "      <td>50 a 54</td>\n",
       "    </tr>\n",
       "    <tr>\n",
       "      <th>1505437</th>\n",
       "      <td>2023-12-29</td>\n",
       "      <td>170700</td>\n",
       "      <td>17</td>\n",
       "      <td>2023-12-28</td>\n",
       "      <td>1996.0</td>\n",
       "      <td>27.0</td>\n",
       "      <td>Feminino</td>\n",
       "      <td>Não</td>\n",
       "      <td>Parda</td>\n",
       "      <td>Ignorado</td>\n",
       "      <td>...</td>\n",
       "      <td>Não</td>\n",
       "      <td>Não</td>\n",
       "      <td>Não</td>\n",
       "      <td>Não</td>\n",
       "      <td>Não</td>\n",
       "      <td>Não</td>\n",
       "      <td>Sim</td>\n",
       "      <td>Não</td>\n",
       "      <td>Não</td>\n",
       "      <td>25 a 29</td>\n",
       "    </tr>\n",
       "    <tr>\n",
       "      <th>1505438</th>\n",
       "      <td>2023-12-29</td>\n",
       "      <td>172100</td>\n",
       "      <td>17</td>\n",
       "      <td>2023-12-22</td>\n",
       "      <td>1959.0</td>\n",
       "      <td>64.0</td>\n",
       "      <td>Masculino</td>\n",
       "      <td>Não se aplica</td>\n",
       "      <td>Branca</td>\n",
       "      <td>Ignorado</td>\n",
       "      <td>...</td>\n",
       "      <td>Não</td>\n",
       "      <td>Não</td>\n",
       "      <td>Não</td>\n",
       "      <td>Não</td>\n",
       "      <td>Não</td>\n",
       "      <td>Não</td>\n",
       "      <td>Sim</td>\n",
       "      <td>Não</td>\n",
       "      <td>Não</td>\n",
       "      <td>60 a 64</td>\n",
       "    </tr>\n",
       "  </tbody>\n",
       "</table>\n",
       "<p>1505439 rows × 35 columns</p>\n",
       "</div>"
      ],
      "text/plain": [
       "         DT_NOTIFIC  ID_MUNICIP  SG_UF_NOT  DT_SIN_PRI  ANO_NASC  NU_IDADE_N  \\\n",
       "0        2023-01-01      120070         12  2023-01-01    2005.0        17.0   \n",
       "1        2023-01-02      120005         12  2023-01-01    1971.0        51.0   \n",
       "2        2023-01-02      120005         12  2023-01-01    1995.0        27.0   \n",
       "3        2023-01-02      120030         12  2023-01-01    2002.0        20.0   \n",
       "4        2023-01-02      120005         12  2023-01-02    1990.0        32.0   \n",
       "...             ...         ...        ...         ...       ...         ...   \n",
       "1505434  2023-12-28      172120         17  2023-12-26    1986.0        37.0   \n",
       "1505435  2023-12-29      170700         17  2023-12-28    1984.0        39.0   \n",
       "1505436  2023-12-29      170820         17  2023-12-25    1971.0        52.0   \n",
       "1505437  2023-12-29      170700         17  2023-12-28    1996.0        27.0   \n",
       "1505438  2023-12-29      172100         17  2023-12-22    1959.0        64.0   \n",
       "\n",
       "           CS_SEXO     CS_GESTANT   CS_RACA                CS_ESCOL_N  ...  \\\n",
       "0         Feminino            Não     Parda                  Ignorado  ...   \n",
       "1         Feminino            Não  Ignorado                  Ignorado  ...   \n",
       "2         Feminino       Ignorado  Ignorado                  Ignorado  ...   \n",
       "3        Masculino  Não se aplica     Parda                  Ignorado  ...   \n",
       "4        Masculino  Não se aplica  Ignorado                  Ignorado  ...   \n",
       "...            ...            ...       ...                       ...  ...   \n",
       "1505434   Feminino            Não     Parda  Ensino superior completo  ...   \n",
       "1505435   Feminino            Não     Parda     Ensino Médio completo  ...   \n",
       "1505436   Feminino  Não se aplica     Preta      Fundamental completo  ...   \n",
       "1505437   Feminino            Não     Parda                  Ignorado  ...   \n",
       "1505438  Masculino  Não se aplica    Branca                  Ignorado  ...   \n",
       "\n",
       "         LACO  DOR_RETRO DIABETES HEMATOLOG HEPATOPAT RENAL HIPERTENSA  \\\n",
       "0         Não        Sim      Não       Não       Não   Não        Não   \n",
       "1         Não        Sim      Não       Não       Não   Não        Não   \n",
       "2         Não        Não      Não       Não       Não   Não        Não   \n",
       "3         Não        Não      Não       Não       Não   Não        Não   \n",
       "4         Não        Não      Não       Não       Não   Não        Não   \n",
       "...       ...        ...      ...       ...       ...   ...        ...   \n",
       "1505434   Não        Não      Não       Não       Não   Não        Não   \n",
       "1505435   Não        Sim      Não       Não       Não   Não        Não   \n",
       "1505436   Não        Não      Não       Não       Não   Não        Sim   \n",
       "1505437   Não        Não      Não       Não       Não   Não        Sim   \n",
       "1505438   Não        Não      Não       Não       Não   Não        Sim   \n",
       "\n",
       "        ACIDO_PEPT AUTO_IMUNE Faixa Etária  \n",
       "0              Não        Não      15 a 19  \n",
       "1              Não        Não      50 a 54  \n",
       "2              Não        Não      25 a 29  \n",
       "3              Não        Não      20 a 24  \n",
       "4              Não        Não      30 a 34  \n",
       "...            ...        ...          ...  \n",
       "1505434        Não        Não      35 a 39  \n",
       "1505435        Sim        Não      35 a 39  \n",
       "1505436        Não        Não      50 a 54  \n",
       "1505437        Não        Não      25 a 29  \n",
       "1505438        Não        Não      60 a 64  \n",
       "\n",
       "[1505439 rows x 35 columns]"
      ]
     },
     "execution_count": 7,
     "metadata": {},
     "output_type": "execute_result"
    }
   ],
   "source": [
    "df = pd.read_csv('dengue_resumido_V3.csv', sep=';')\n",
    "df"
   ]
  },
  {
   "cell_type": "code",
   "execution_count": 8,
   "metadata": {},
   "outputs": [
    {
     "name": "stdout",
     "output_type": "stream",
     "text": [
      "<class 'pandas.core.frame.DataFrame'>\n",
      "RangeIndex: 1505439 entries, 0 to 1505438\n",
      "Data columns (total 35 columns):\n",
      " #   Column        Non-Null Count    Dtype  \n",
      "---  ------        --------------    -----  \n",
      " 0   DT_NOTIFIC    1505439 non-null  object \n",
      " 1   ID_MUNICIP    1505439 non-null  int64  \n",
      " 2   SG_UF_NOT     1505439 non-null  int64  \n",
      " 3   DT_SIN_PRI    1505439 non-null  object \n",
      " 4   ANO_NASC      1497625 non-null  float64\n",
      " 5   NU_IDADE_N    1505439 non-null  float64\n",
      " 6   CS_SEXO       1505439 non-null  object \n",
      " 7   CS_GESTANT    1505439 non-null  object \n",
      " 8   CS_RACA       1505439 non-null  object \n",
      " 9   CS_ESCOL_N    1505439 non-null  object \n",
      " 10  HOSPITALIZ    1112856 non-null  float64\n",
      " 11  EVOLUCAO      1235671 non-null  float64\n",
      " 12  DT_OBITO      1531 non-null     object \n",
      " 13  FEBRE         1505439 non-null  object \n",
      " 14  MIALGIA       1505439 non-null  object \n",
      " 15  CEFALEIA      1505439 non-null  object \n",
      " 16  EXANTEMA      1505439 non-null  object \n",
      " 17  VOMITO        1505439 non-null  object \n",
      " 18  NAUSEA        1505439 non-null  object \n",
      " 19  DOR_COSTAS    1505439 non-null  object \n",
      " 20  CONJUNTVIT    1505439 non-null  object \n",
      " 21  ARTRITE       1505439 non-null  object \n",
      " 22  ARTRALGIA     1505439 non-null  object \n",
      " 23  PETEQUIA_N    1505439 non-null  object \n",
      " 24  LEUCOPENIA    1505439 non-null  object \n",
      " 25  LACO          1505439 non-null  object \n",
      " 26  DOR_RETRO     1505439 non-null  object \n",
      " 27  DIABETES      1505439 non-null  object \n",
      " 28  HEMATOLOG     1505439 non-null  object \n",
      " 29  HEPATOPAT     1505439 non-null  object \n",
      " 30  RENAL         1505439 non-null  object \n",
      " 31  HIPERTENSA    1505439 non-null  object \n",
      " 32  ACIDO_PEPT    1505439 non-null  object \n",
      " 33  AUTO_IMUNE    1505439 non-null  object \n",
      " 34  Faixa Etária  1505439 non-null  object \n",
      "dtypes: float64(4), int64(2), object(29)\n",
      "memory usage: 402.0+ MB\n"
     ]
    }
   ],
   "source": [
    "df.info()"
   ]
  },
  {
   "cell_type": "markdown",
   "metadata": {},
   "source": [
    "## **3. ANÁLISE EXPLORATÓRIA DOS DADOS**"
   ]
  },
  {
   "cell_type": "markdown",
   "metadata": {},
   "source": [
    "### **3.1 Casos de Dengue por Estado do Brasil**"
   ]
  },
  {
   "cell_type": "markdown",
   "metadata": {},
   "source": [
    "•\tQual é a distribuição dos casos de dengue por estado (SG_UF_NOT)?\n",
    "\n",
    "•\tQuais estados tiveram as maiores e menores taxas de notificação (TP_NOT) de dengue em 2023?\n",
    "\n",
    "•\tComo a distribuição dos casos de dengue varia ao longo das semanas (SEM_NOT) em diferentes estados?\n",
    "\n",
    "•\tExiste correlação entre as características regionais (ID_REGIONA) e a frequência de notificações?\n"
   ]
  },
  {
   "cell_type": "markdown",
   "metadata": {},
   "source": [
    "### **3.2 Evolução Temporal do Número de Casos**"
   ]
  },
  {
   "cell_type": "markdown",
   "metadata": {},
   "source": [
    "•\tComo a incidência de dengue variou ao longo do ano de 2023, considerando SEM_NOT e DT_NOTIFIC (é preciso dividir as semanas com base nos dias para ter uma noção do mês de incidência)?\n",
    "\n",
    "•\tExiste alguma correlação entre períodos de pico de casos e as estações do ano?\n",
    "\n",
    "•\tQuais meses tiveram o maior aumento nos casos de dengue, e como isso se relaciona com as condições sazonais e regionais?\n"
   ]
  },
  {
   "cell_type": "code",
   "execution_count": 5,
   "metadata": {},
   "outputs": [
    {
     "name": "stdout",
     "output_type": "stream",
     "text": [
      "<class 'pandas.core.series.Series'>\n",
      "RangeIndex: 1505439 entries, 0 to 1505438\n",
      "Series name: DT_NOTIFIC\n",
      "Non-Null Count    Dtype \n",
      "--------------    ----- \n",
      "1505439 non-null  object\n",
      "dtypes: object(1)\n",
      "memory usage: 11.5+ MB\n"
     ]
    }
   ],
   "source": [
    "df['DT_NOTIFIC'].info()"
   ]
  },
  {
   "cell_type": "code",
   "execution_count": 9,
   "metadata": {},
   "outputs": [],
   "source": [
    "df['DT_SIN_PRI'] = pd.to_datetime(df['DT_SIN_PRI'],format='%Y-%m-%d')\n",
    "df['DT_NOTIFIC'] = pd.to_datetime(df['DT_NOTIFIC'],format='%Y-%m-%d')"
   ]
  },
  {
   "cell_type": "code",
   "execution_count": 10,
   "metadata": {},
   "outputs": [],
   "source": [
    "#Criando uma coluna para o casos por mês\n",
    "df['MES_ANO'] = df['DT_NOTIFIC'].dt.to_period('M')"
   ]
  },
  {
   "cell_type": "code",
   "execution_count": 11,
   "metadata": {},
   "outputs": [
    {
     "data": {
      "text/plain": [
       "<PeriodArray>\n",
       "['2023-01', '2023-02', '2023-03', '2023-04', '2023-05', '2023-06', '2023-07',\n",
       " '2023-08', '2023-09', '2023-10', '2023-11', '2023-12']\n",
       "Length: 12, dtype: period[M]"
      ]
     },
     "execution_count": 11,
     "metadata": {},
     "output_type": "execute_result"
    }
   ],
   "source": [
    "df['MES_ANO'].unique()"
   ]
  },
  {
   "cell_type": "code",
   "execution_count": 21,
   "metadata": {},
   "outputs": [
    {
     "name": "stdout",
     "output_type": "stream",
     "text": [
      "    MES_ANO  NUM_CASOS\n",
      "0   2023-01      56466\n",
      "1   2023-02     122691\n",
      "2   2023-03     295252\n",
      "3   2023-04     388722\n",
      "4   2023-05     301552\n",
      "5   2023-06     103839\n",
      "6   2023-07      41671\n",
      "7   2023-08      27928\n",
      "8   2023-09      21131\n",
      "9   2023-10      24534\n",
      "10  2023-11      38378\n",
      "11  2023-12      83275\n"
     ]
    }
   ],
   "source": [
    "casos_por_mes = df.groupby('MES_ANO').size().reset_index(name='NUM_CASOS')\n",
    "print(casos_por_mes)"
   ]
  },
  {
   "cell_type": "code",
   "execution_count": 23,
   "metadata": {},
   "outputs": [
    {
     "name": "stdout",
     "output_type": "stream",
     "text": [
      "<class 'pandas.core.frame.DataFrame'>\n",
      "RangeIndex: 12 entries, 0 to 11\n",
      "Data columns (total 2 columns):\n",
      " #   Column     Non-Null Count  Dtype    \n",
      "---  ------     --------------  -----    \n",
      " 0   MES_ANO    12 non-null     period[M]\n",
      " 1   NUM_CASOS  12 non-null     int64    \n",
      "dtypes: int64(1), period[M](1)\n",
      "memory usage: 320.0 bytes\n"
     ]
    }
   ],
   "source": [
    "casos_por_mes.info()"
   ]
  },
  {
   "cell_type": "code",
   "execution_count": 24,
   "metadata": {},
   "outputs": [],
   "source": [
    "# Converte 'MES_ANO' para string\n",
    "casos_por_mes['MES_ANO'] = casos_por_mes['MES_ANO'].astype(str)"
   ]
  },
  {
   "cell_type": "code",
   "execution_count": 26,
   "metadata": {},
   "outputs": [],
   "source": [
    "# Mapeamento de 'MES_ANO' para os nomes dos meses em português\n",
    "mes_map = {\n",
    "    '2023-01': 'Jan', '2023-02': 'Fev', '2023-03': 'Mar', '2023-04': 'Abr',\n",
    "    '2023-05': 'Mai', '2023-06': 'Jun', '2023-07': 'Jul', '2023-08': 'Ago',\n",
    "    '2023-09': 'Set', '2023-10': 'Out', '2023-11': 'Nov', '2023-12': 'Dez'\n",
    "}\n",
    "\n",
    "# Substitui os valores na coluna 'MES_ANO'\n",
    "casos_por_mes['MES_ANO'] = casos_por_mes['MES_ANO'].replace(mes_map)"
   ]
  },
  {
   "cell_type": "code",
   "execution_count": 27,
   "metadata": {},
   "outputs": [
    {
     "data": {
      "image/png": "[encoded data removed]",
      "text/plain": [
       "<Figure size 640x480 with 1 Axes>"
      ]
     },
     "metadata": {},
     "output_type": "display_data"
    }
   ],
   "source": [
    "# Gera o gráfico diretamente\n",
    "plt.plot(casos_por_mes['MES_ANO'], casos_por_mes['NUM_CASOS'])\n",
    "plt.xlabel('Número de Casos')\n",
    "plt.ylabel('Mês do Ano')\n",
    "plt.title('Casos de Dengue por Mês em 2023')\n",
    "plt.show()"
   ]
  },
  {
   "cell_type": "markdown",
   "metadata": {},
   "source": [
    "### **3.3 Indicadores Sociodemográficos**"
   ]
  },
  {
   "cell_type": "markdown",
   "metadata": {},
   "source": [
    "•\tQual é a distribuição etária (NU_IDADE_N) dos casos de dengue? Existe uma faixa etária mais vulnerável?\n",
    "\n",
    "•\tComo a distribuição dos casos de dengue varia entre os diferentes sexos (CS_SEXO)?\n",
    "\n",
    "•\tQual é a distribuição dos casos de dengue entre diferentes grupos raciais (CS_RACA)?\n",
    "\n",
    "•\tHá alguma relação entre o nível de escolaridade (CS_ESCOL_N) e a incidência de dengue?\n",
    "\n",
    "•\tQual é a distribuição dos casos de dengue entre gestantes (CS_GESTANT)?\n"
   ]
  },
  {
   "cell_type": "markdown",
   "metadata": {},
   "source": [
    "#### **3.3.1 Pirâmide Etária dos Casos de Dengue**"
   ]
  },
  {
   "cell_type": "markdown",
   "metadata": {},
   "source": [
    "Verificando valores únicos e valores nulos na coluna NU_IDADE_N"
   ]
  },
  {
   "cell_type": "code",
   "execution_count": 5,
   "metadata": {},
   "outputs": [
    {
     "data": {
      "text/plain": [
       "array([ 17.,  51.,  27.,  20.,  32.,  18.,  23.,  63.,  15.,  45.,  50.,\n",
       "        26.,  25.,  24.,  52.,  53., 101.,  40.,   9.,  19.,  39.,   1.,\n",
       "        43.,  12.,  41.,  47.,  38.,  42.,  31.,  35.,  13.,  61.,  59.,\n",
       "        73.,  16.,  36.,  28.,  66.,  30.,   2.,  21.,  10.,   5.,  82.,\n",
       "        37.,  29.,  11.,  48.,  62.,  34.,   6.,  22.,   7.,  69.,  14.,\n",
       "        33.,   8.,  75.,  49.,  58.,  57.,  55.,  74.,   4.,  91.,  44.,\n",
       "        46.,  56.,  71.,   3.,  79.,  60.,  70.,  76.,  67.,  54.,  65.,\n",
       "        64.,  68.,  78.,  72.,  92.,  85.,  90.,  84.,  89.,  77.,  81.,\n",
       "       106.,  83.,  80., 104.,  86.,  88.,  93.,  87.,  94., 105.,  96.,\n",
       "        95.,  98., 103.,  97.,  99., 100., 109., 123.,   0., 110., 121.,\n",
       "       102., 113., 108., 119., 107., 112., 111., 117., 116., 114., 118.,\n",
       "       115., 122.])"
      ]
     },
     "execution_count": 5,
     "metadata": {},
     "output_type": "execute_result"
    }
   ],
   "source": [
    "df['NU_IDADE_N'].unique()"
   ]
  },
  {
   "cell_type": "code",
   "execution_count": 6,
   "metadata": {},
   "outputs": [
    {
     "data": {
      "text/plain": [
       "0"
      ]
     },
     "execution_count": 6,
     "metadata": {},
     "output_type": "execute_result"
    }
   ],
   "source": [
    "df['NU_IDADE_N'].isnull().sum()"
   ]
  },
  {
   "cell_type": "markdown",
   "metadata": {},
   "source": [
    "**Tabulando as informações por Gênero e Faixa Etária**"
   ]
  },
  {
   "cell_type": "code",
   "execution_count": 7,
   "metadata": {},
   "outputs": [
    {
     "data": {
      "text/plain": [
       "CS_SEXO\n",
       "Feminino     808741\n",
       "Masculino    694353\n",
       "Ignorado       2345\n",
       "Name: count, dtype: int64"
      ]
     },
     "execution_count": 7,
     "metadata": {},
     "output_type": "execute_result"
    }
   ],
   "source": [
    "df['CS_SEXO'].value_counts()"
   ]
  },
  {
   "cell_type": "code",
   "execution_count": 8,
   "metadata": {},
   "outputs": [
    {
     "data": {
      "text/plain": [
       "Faixa Etária\n",
       "20 a 24    69129\n",
       "25 a 29    65549\n",
       "15 a 19    64418\n",
       "10 a 14    63058\n",
       "30 a 34    58107\n",
       "35 a 39    54972\n",
       "40 a 44    51870\n",
       "5 a 9      46843\n",
       "45 a 49    42435\n",
       "50 a 54    36691\n",
       "55 a 59    32276\n",
       "0 a 4      28332\n",
       "60 a 64    26677\n",
       "65 a 69    20573\n",
       "70 a 74    14689\n",
       "75 a 79     9371\n",
       "80+         9363\n",
       "Name: count, dtype: int64"
      ]
     },
     "execution_count": 8,
     "metadata": {},
     "output_type": "execute_result"
    }
   ],
   "source": [
    "#Frequência dos casos de dengue por faixa etária em homens\n",
    "df_masculino = df.query('CS_SEXO == \"Masculino\"')\n",
    "frequencia_masculino = df_masculino['Faixa Etária'].value_counts()\n",
    "frequencia_masculino"
   ]
  },
  {
   "cell_type": "code",
   "execution_count": 9,
   "metadata": {},
   "outputs": [
    {
     "data": {
      "text/plain": [
       "Faixa Etária\n",
       "20 a 24    76693\n",
       "25 a 29    76467\n",
       "30 a 34    69913\n",
       "35 a 39    69258\n",
       "40 a 44    68279\n",
       "15 a 19    64462\n",
       "45 a 49    58341\n",
       "50 a 54    52491\n",
       "10 a 14    50990\n",
       "55 a 59    46530\n",
       "5 a 9      40898\n",
       "60 a 64    37064\n",
       "65 a 69    27997\n",
       "0 a 4      24934\n",
       "70 a 74    19440\n",
       "80+        12684\n",
       "75 a 79    12300\n",
       "Name: count, dtype: int64"
      ]
     },
     "execution_count": 9,
     "metadata": {},
     "output_type": "execute_result"
    }
   ],
   "source": [
    "#Frequência dos casos de dengue por faixa etária em mulheres\n",
    "df_feminino = df.query('CS_SEXO == \"Feminino\"')\n",
    "frequencia_feminino = df_feminino['Faixa Etária'].value_counts()\n",
    "frequencia_feminino"
   ]
  },
  {
   "cell_type": "markdown",
   "metadata": {},
   "source": [
    "Setando um dicionário das faixas etárias para a criação da pirâmide etária"
   ]
  },
  {
   "cell_type": "code",
   "execution_count": 10,
   "metadata": {},
   "outputs": [],
   "source": [
    "faixas_etarias = {\n",
    "    \"80+\": (80, 200),\n",
    "    \"75 a 79\": (75, 79),\n",
    "    \"70 a 74\": (70, 74),\n",
    "    \"65 a 69\": (65, 69),\n",
    "    \"60 a 64\": (60, 64),\n",
    "    \"55 a 59\": (55, 59),\n",
    "    \"50 a 54\": (50, 54),\n",
    "    \"45 a 49\": (45, 49),\n",
    "    \"40 a 44\": (40, 44),\n",
    "    \"35 a 39\": (35, 39),\n",
    "    \"30 a 34\": (30, 34),\n",
    "    \"25 a 29\": (25, 29),\n",
    "    \"20 a 24\": (20, 24),\n",
    "    \"15 a 19\": (15, 19),\n",
    "    \"10 a 14\": (10, 14),\n",
    "    \"5 a 9\": (5, 9),\n",
    "    \"0 a 4\": (0, 4)\n",
    "}"
   ]
  },
  {
   "cell_type": "code",
   "execution_count": 11,
   "metadata": {},
   "outputs": [
    {
     "data": {
      "text/html": [
       "<div>\n",
       "<style scoped>\n",
       "    .dataframe tbody tr th:only-of-type {\n",
       "        vertical-align: middle;\n",
       "    }\n",
       "\n",
       "    .dataframe tbody tr th {\n",
       "        vertical-align: top;\n",
       "    }\n",
       "\n",
       "    .dataframe thead th {\n",
       "        text-align: right;\n",
       "    }\n",
       "</style>\n",
       "<table border=\"1\" class=\"dataframe\">\n",
       "  <thead>\n",
       "    <tr style=\"text-align: right;\">\n",
       "      <th></th>\n",
       "      <th>Faixa Etária</th>\n",
       "      <th>Homens</th>\n",
       "      <th>Mulheres</th>\n",
       "    </tr>\n",
       "  </thead>\n",
       "  <tbody>\n",
       "    <tr>\n",
       "      <th>16</th>\n",
       "      <td>80+</td>\n",
       "      <td>9363</td>\n",
       "      <td>12684</td>\n",
       "    </tr>\n",
       "    <tr>\n",
       "      <th>15</th>\n",
       "      <td>75 a 79</td>\n",
       "      <td>9371</td>\n",
       "      <td>12300</td>\n",
       "    </tr>\n",
       "    <tr>\n",
       "      <th>14</th>\n",
       "      <td>70 a 74</td>\n",
       "      <td>14689</td>\n",
       "      <td>19440</td>\n",
       "    </tr>\n",
       "    <tr>\n",
       "      <th>13</th>\n",
       "      <td>65 a 69</td>\n",
       "      <td>20573</td>\n",
       "      <td>27997</td>\n",
       "    </tr>\n",
       "    <tr>\n",
       "      <th>12</th>\n",
       "      <td>60 a 64</td>\n",
       "      <td>26677</td>\n",
       "      <td>37064</td>\n",
       "    </tr>\n",
       "    <tr>\n",
       "      <th>11</th>\n",
       "      <td>55 a 59</td>\n",
       "      <td>32276</td>\n",
       "      <td>46530</td>\n",
       "    </tr>\n",
       "    <tr>\n",
       "      <th>10</th>\n",
       "      <td>50 a 54</td>\n",
       "      <td>36691</td>\n",
       "      <td>52491</td>\n",
       "    </tr>\n",
       "    <tr>\n",
       "      <th>8</th>\n",
       "      <td>45 a 49</td>\n",
       "      <td>42435</td>\n",
       "      <td>58341</td>\n",
       "    </tr>\n",
       "    <tr>\n",
       "      <th>7</th>\n",
       "      <td>40 a 44</td>\n",
       "      <td>51870</td>\n",
       "      <td>68279</td>\n",
       "    </tr>\n",
       "    <tr>\n",
       "      <th>6</th>\n",
       "      <td>35 a 39</td>\n",
       "      <td>54972</td>\n",
       "      <td>69258</td>\n",
       "    </tr>\n",
       "    <tr>\n",
       "      <th>5</th>\n",
       "      <td>30 a 34</td>\n",
       "      <td>58107</td>\n",
       "      <td>69913</td>\n",
       "    </tr>\n",
       "    <tr>\n",
       "      <th>4</th>\n",
       "      <td>25 a 29</td>\n",
       "      <td>65549</td>\n",
       "      <td>76467</td>\n",
       "    </tr>\n",
       "    <tr>\n",
       "      <th>3</th>\n",
       "      <td>20 a 24</td>\n",
       "      <td>69129</td>\n",
       "      <td>76693</td>\n",
       "    </tr>\n",
       "    <tr>\n",
       "      <th>2</th>\n",
       "      <td>15 a 19</td>\n",
       "      <td>64418</td>\n",
       "      <td>64462</td>\n",
       "    </tr>\n",
       "    <tr>\n",
       "      <th>1</th>\n",
       "      <td>10 a 14</td>\n",
       "      <td>63058</td>\n",
       "      <td>50990</td>\n",
       "    </tr>\n",
       "    <tr>\n",
       "      <th>9</th>\n",
       "      <td>5 a 9</td>\n",
       "      <td>46843</td>\n",
       "      <td>40898</td>\n",
       "    </tr>\n",
       "    <tr>\n",
       "      <th>0</th>\n",
       "      <td>0 a 4</td>\n",
       "      <td>28332</td>\n",
       "      <td>24934</td>\n",
       "    </tr>\n",
       "  </tbody>\n",
       "</table>\n",
       "</div>"
      ],
      "text/plain": [
       "   Faixa Etária  Homens  Mulheres\n",
       "16          80+    9363     12684\n",
       "15      75 a 79    9371     12300\n",
       "14      70 a 74   14689     19440\n",
       "13      65 a 69   20573     27997\n",
       "12      60 a 64   26677     37064\n",
       "11      55 a 59   32276     46530\n",
       "10      50 a 54   36691     52491\n",
       "8       45 a 49   42435     58341\n",
       "7       40 a 44   51870     68279\n",
       "6       35 a 39   54972     69258\n",
       "5       30 a 34   58107     69913\n",
       "4       25 a 29   65549     76467\n",
       "3       20 a 24   69129     76693\n",
       "2       15 a 19   64418     64462\n",
       "1       10 a 14   63058     50990\n",
       "9         5 a 9   46843     40898\n",
       "0         0 a 4   28332     24934"
      ]
     },
     "execution_count": 11,
     "metadata": {},
     "output_type": "execute_result"
    }
   ],
   "source": [
    "# Criar o DataFrame tabulado\n",
    "tab_piramide_etaria = pd.DataFrame({'Homens': frequencia_masculino, 'Mulheres': frequencia_feminino})\n",
    "tab_piramide_etaria.rename(columns={'index': 'Faixa Etária'}, inplace=True)\n",
    "\n",
    "# Renomear a coluna 'index' para 'Faixa Etária'\n",
    "tab_piramide_etaria.index.name = 'Faixa Etária'\n",
    "tab_piramide_etaria = tab_piramide_etaria.reset_index()\n",
    "\n",
    "#Ordenando as faixas etárias\n",
    "ordem_faixas = list(faixas_etarias.keys())\n",
    "tab_piramide_etaria['Faixa Etária'] = pd.Categorical(tab_piramide_etaria['Faixa Etária'], categories=ordem_faixas, ordered=True)\n",
    "tab_piramide_etaria = tab_piramide_etaria.sort_values('Faixa Etária')\n",
    "\n",
    "tab_piramide_etaria"
   ]
  },
  {
   "cell_type": "markdown",
   "metadata": {},
   "source": [
    "**Plotando a Pirâmide Etária (pessoas)**"
   ]
  },
  {
   "cell_type": "code",
   "execution_count": 12,
   "metadata": {},
   "outputs": [],
   "source": [
    "tab_piramide_etaria['Homens'] = tab_piramide_etaria['Homens'] * -1\n",
    "tab_piramide_etaria['Mulheres'] = tab_piramide_etaria['Mulheres']"
   ]
  },
  {
   "cell_type": "code",
   "execution_count": 13,
   "metadata": {},
   "outputs": [
    {
     "data": {
      "text/html": [
       "<div>\n",
       "<style scoped>\n",
       "    .dataframe tbody tr th:only-of-type {\n",
       "        vertical-align: middle;\n",
       "    }\n",
       "\n",
       "    .dataframe tbody tr th {\n",
       "        vertical-align: top;\n",
       "    }\n",
       "\n",
       "    .dataframe thead th {\n",
       "        text-align: right;\n",
       "    }\n",
       "</style>\n",
       "<table border=\"1\" class=\"dataframe\">\n",
       "  <thead>\n",
       "    <tr style=\"text-align: right;\">\n",
       "      <th></th>\n",
       "      <th>Faixa Etária</th>\n",
       "      <th>Homens</th>\n",
       "      <th>Mulheres</th>\n",
       "    </tr>\n",
       "  </thead>\n",
       "  <tbody>\n",
       "    <tr>\n",
       "      <th>16</th>\n",
       "      <td>80+</td>\n",
       "      <td>-9363</td>\n",
       "      <td>12684</td>\n",
       "    </tr>\n",
       "    <tr>\n",
       "      <th>15</th>\n",
       "      <td>75 a 79</td>\n",
       "      <td>-9371</td>\n",
       "      <td>12300</td>\n",
       "    </tr>\n",
       "    <tr>\n",
       "      <th>14</th>\n",
       "      <td>70 a 74</td>\n",
       "      <td>-14689</td>\n",
       "      <td>19440</td>\n",
       "    </tr>\n",
       "    <tr>\n",
       "      <th>13</th>\n",
       "      <td>65 a 69</td>\n",
       "      <td>-20573</td>\n",
       "      <td>27997</td>\n",
       "    </tr>\n",
       "    <tr>\n",
       "      <th>12</th>\n",
       "      <td>60 a 64</td>\n",
       "      <td>-26677</td>\n",
       "      <td>37064</td>\n",
       "    </tr>\n",
       "    <tr>\n",
       "      <th>11</th>\n",
       "      <td>55 a 59</td>\n",
       "      <td>-32276</td>\n",
       "      <td>46530</td>\n",
       "    </tr>\n",
       "    <tr>\n",
       "      <th>10</th>\n",
       "      <td>50 a 54</td>\n",
       "      <td>-36691</td>\n",
       "      <td>52491</td>\n",
       "    </tr>\n",
       "    <tr>\n",
       "      <th>8</th>\n",
       "      <td>45 a 49</td>\n",
       "      <td>-42435</td>\n",
       "      <td>58341</td>\n",
       "    </tr>\n",
       "    <tr>\n",
       "      <th>7</th>\n",
       "      <td>40 a 44</td>\n",
       "      <td>-51870</td>\n",
       "      <td>68279</td>\n",
       "    </tr>\n",
       "    <tr>\n",
       "      <th>6</th>\n",
       "      <td>35 a 39</td>\n",
       "      <td>-54972</td>\n",
       "      <td>69258</td>\n",
       "    </tr>\n",
       "    <tr>\n",
       "      <th>5</th>\n",
       "      <td>30 a 34</td>\n",
       "      <td>-58107</td>\n",
       "      <td>69913</td>\n",
       "    </tr>\n",
       "    <tr>\n",
       "      <th>4</th>\n",
       "      <td>25 a 29</td>\n",
       "      <td>-65549</td>\n",
       "      <td>76467</td>\n",
       "    </tr>\n",
       "    <tr>\n",
       "      <th>3</th>\n",
       "      <td>20 a 24</td>\n",
       "      <td>-69129</td>\n",
       "      <td>76693</td>\n",
       "    </tr>\n",
       "    <tr>\n",
       "      <th>2</th>\n",
       "      <td>15 a 19</td>\n",
       "      <td>-64418</td>\n",
       "      <td>64462</td>\n",
       "    </tr>\n",
       "    <tr>\n",
       "      <th>1</th>\n",
       "      <td>10 a 14</td>\n",
       "      <td>-63058</td>\n",
       "      <td>50990</td>\n",
       "    </tr>\n",
       "    <tr>\n",
       "      <th>9</th>\n",
       "      <td>5 a 9</td>\n",
       "      <td>-46843</td>\n",
       "      <td>40898</td>\n",
       "    </tr>\n",
       "    <tr>\n",
       "      <th>0</th>\n",
       "      <td>0 a 4</td>\n",
       "      <td>-28332</td>\n",
       "      <td>24934</td>\n",
       "    </tr>\n",
       "  </tbody>\n",
       "</table>\n",
       "</div>"
      ],
      "text/plain": [
       "   Faixa Etária  Homens  Mulheres\n",
       "16          80+   -9363     12684\n",
       "15      75 a 79   -9371     12300\n",
       "14      70 a 74  -14689     19440\n",
       "13      65 a 69  -20573     27997\n",
       "12      60 a 64  -26677     37064\n",
       "11      55 a 59  -32276     46530\n",
       "10      50 a 54  -36691     52491\n",
       "8       45 a 49  -42435     58341\n",
       "7       40 a 44  -51870     68279\n",
       "6       35 a 39  -54972     69258\n",
       "5       30 a 34  -58107     69913\n",
       "4       25 a 29  -65549     76467\n",
       "3       20 a 24  -69129     76693\n",
       "2       15 a 19  -64418     64462\n",
       "1       10 a 14  -63058     50990\n",
       "9         5 a 9  -46843     40898\n",
       "0         0 a 4  -28332     24934"
      ]
     },
     "execution_count": 13,
     "metadata": {},
     "output_type": "execute_result"
    }
   ],
   "source": [
    "tab_piramide_etaria"
   ]
  },
  {
   "cell_type": "code",
   "execution_count": 14,
   "metadata": {},
   "outputs": [
    {
     "name": "stderr",
     "output_type": "stream",
     "text": [
      "c:\\Users\\Gamer\\AppData\\Local\\Programs\\Python\\Python310\\lib\\site-packages\\seaborn\\categorical.py:641: FutureWarning: The default of observed=False is deprecated and will be changed to True in a future version of pandas. Pass observed=False to retain current behavior or observed=True to adopt the future default and silence this warning.\n",
      "  grouped_vals = vals.groupby(grouper)\n",
      "c:\\Users\\Gamer\\AppData\\Local\\Programs\\Python\\Python310\\lib\\site-packages\\seaborn\\categorical.py:641: FutureWarning: The default of observed=False is deprecated and will be changed to True in a future version of pandas. Pass observed=False to retain current behavior or observed=True to adopt the future default and silence this warning.\n",
      "  grouped_vals = vals.groupby(grouper)\n"
     ]
    },
    {
     "data": {
      "image/png": "[encoded data removed]",
      "text/plain": [
       "<Figure size 640x480 with 1 Axes>"
      ]
     },
     "metadata": {},
     "output_type": "display_data"
    }
   ],
   "source": [
    "ax1 = sns.barplot(x='Homens', y='Faixa Etária', data=tab_piramide_etaria, order=ordem_faixas, color=\"teal\")\n",
    "ax2 = sns.barplot(x='Mulheres', y='Faixa Etária', data=tab_piramide_etaria, order=ordem_faixas, color=\"lightseagreen\")\n",
    "plt.title(\"Pirâmide Etária dos Casos de Dengue (pessoas) - Brasil, 2023\")\n",
    "plt.xlabel(\"Homens / Mulheres\")\n",
    "plt.grid(axis='x', linestyle = '--')\n",
    "plt.xticks(ticks=[-60000, -40000, -20000, 0, 20000, 40000, 60000],\n",
    "labels=['60k', '40k', '20k', '0', '20k', '40k', '60k'])\n",
    "plt.show()"
   ]
  },
  {
   "cell_type": "markdown",
   "metadata": {},
   "source": [
    "**Plotando a Pirâmide Etária (%)**"
   ]
  },
  {
   "cell_type": "code",
   "execution_count": 15,
   "metadata": {},
   "outputs": [
    {
     "data": {
      "text/html": [
       "<div>\n",
       "<style scoped>\n",
       "    .dataframe tbody tr th:only-of-type {\n",
       "        vertical-align: middle;\n",
       "    }\n",
       "\n",
       "    .dataframe tbody tr th {\n",
       "        vertical-align: top;\n",
       "    }\n",
       "\n",
       "    .dataframe thead th {\n",
       "        text-align: right;\n",
       "    }\n",
       "</style>\n",
       "<table border=\"1\" class=\"dataframe\">\n",
       "  <thead>\n",
       "    <tr style=\"text-align: right;\">\n",
       "      <th></th>\n",
       "      <th>Faixa Etária</th>\n",
       "      <th>Homens</th>\n",
       "      <th>Mulheres</th>\n",
       "      <th>Homens (%)</th>\n",
       "      <th>Mulheres (%)</th>\n",
       "    </tr>\n",
       "  </thead>\n",
       "  <tbody>\n",
       "    <tr>\n",
       "      <th>16</th>\n",
       "      <td>80+</td>\n",
       "      <td>9363</td>\n",
       "      <td>12684</td>\n",
       "      <td>-0.622915</td>\n",
       "      <td>0.843859</td>\n",
       "    </tr>\n",
       "    <tr>\n",
       "      <th>15</th>\n",
       "      <td>75 a 79</td>\n",
       "      <td>9371</td>\n",
       "      <td>12300</td>\n",
       "      <td>-0.623447</td>\n",
       "      <td>0.818312</td>\n",
       "    </tr>\n",
       "    <tr>\n",
       "      <th>14</th>\n",
       "      <td>70 a 74</td>\n",
       "      <td>14689</td>\n",
       "      <td>19440</td>\n",
       "      <td>-0.977251</td>\n",
       "      <td>1.293332</td>\n",
       "    </tr>\n",
       "    <tr>\n",
       "      <th>13</th>\n",
       "      <td>65 a 69</td>\n",
       "      <td>20573</td>\n",
       "      <td>27997</td>\n",
       "      <td>-1.368710</td>\n",
       "      <td>1.862625</td>\n",
       "    </tr>\n",
       "    <tr>\n",
       "      <th>12</th>\n",
       "      <td>60 a 64</td>\n",
       "      <td>26677</td>\n",
       "      <td>37064</td>\n",
       "      <td>-1.774806</td>\n",
       "      <td>2.465847</td>\n",
       "    </tr>\n",
       "    <tr>\n",
       "      <th>11</th>\n",
       "      <td>55 a 59</td>\n",
       "      <td>32276</td>\n",
       "      <td>46530</td>\n",
       "      <td>-2.147304</td>\n",
       "      <td>3.095615</td>\n",
       "    </tr>\n",
       "    <tr>\n",
       "      <th>10</th>\n",
       "      <td>50 a 54</td>\n",
       "      <td>36691</td>\n",
       "      <td>52491</td>\n",
       "      <td>-2.441032</td>\n",
       "      <td>3.492197</td>\n",
       "    </tr>\n",
       "    <tr>\n",
       "      <th>8</th>\n",
       "      <td>45 a 49</td>\n",
       "      <td>42435</td>\n",
       "      <td>58341</td>\n",
       "      <td>-2.823177</td>\n",
       "      <td>3.881394</td>\n",
       "    </tr>\n",
       "    <tr>\n",
       "      <th>7</th>\n",
       "      <td>40 a 44</td>\n",
       "      <td>51870</td>\n",
       "      <td>68279</td>\n",
       "      <td>-3.450882</td>\n",
       "      <td>4.542564</td>\n",
       "    </tr>\n",
       "    <tr>\n",
       "      <th>6</th>\n",
       "      <td>35 a 39</td>\n",
       "      <td>54972</td>\n",
       "      <td>69258</td>\n",
       "      <td>-3.657256</td>\n",
       "      <td>4.607696</td>\n",
       "    </tr>\n",
       "    <tr>\n",
       "      <th>5</th>\n",
       "      <td>30 a 34</td>\n",
       "      <td>58107</td>\n",
       "      <td>69913</td>\n",
       "      <td>-3.865826</td>\n",
       "      <td>4.651273</td>\n",
       "    </tr>\n",
       "    <tr>\n",
       "      <th>4</th>\n",
       "      <td>25 a 29</td>\n",
       "      <td>65549</td>\n",
       "      <td>76467</td>\n",
       "      <td>-4.360938</td>\n",
       "      <td>5.087307</td>\n",
       "    </tr>\n",
       "    <tr>\n",
       "      <th>3</th>\n",
       "      <td>20 a 24</td>\n",
       "      <td>69129</td>\n",
       "      <td>76693</td>\n",
       "      <td>-4.599114</td>\n",
       "      <td>5.102342</td>\n",
       "    </tr>\n",
       "    <tr>\n",
       "      <th>2</th>\n",
       "      <td>15 a 19</td>\n",
       "      <td>64418</td>\n",
       "      <td>64462</td>\n",
       "      <td>-4.285693</td>\n",
       "      <td>4.288621</td>\n",
       "    </tr>\n",
       "    <tr>\n",
       "      <th>1</th>\n",
       "      <td>10 a 14</td>\n",
       "      <td>63058</td>\n",
       "      <td>50990</td>\n",
       "      <td>-4.195213</td>\n",
       "      <td>3.392336</td>\n",
       "    </tr>\n",
       "    <tr>\n",
       "      <th>9</th>\n",
       "      <td>5 a 9</td>\n",
       "      <td>46843</td>\n",
       "      <td>40898</td>\n",
       "      <td>-3.116438</td>\n",
       "      <td>2.720921</td>\n",
       "    </tr>\n",
       "    <tr>\n",
       "      <th>0</th>\n",
       "      <td>0 a 4</td>\n",
       "      <td>28332</td>\n",
       "      <td>24934</td>\n",
       "      <td>-1.884912</td>\n",
       "      <td>1.658845</td>\n",
       "    </tr>\n",
       "  </tbody>\n",
       "</table>\n",
       "</div>"
      ],
      "text/plain": [
       "   Faixa Etária  Homens  Mulheres  Homens (%)  Mulheres (%)\n",
       "16          80+    9363     12684   -0.622915      0.843859\n",
       "15      75 a 79    9371     12300   -0.623447      0.818312\n",
       "14      70 a 74   14689     19440   -0.977251      1.293332\n",
       "13      65 a 69   20573     27997   -1.368710      1.862625\n",
       "12      60 a 64   26677     37064   -1.774806      2.465847\n",
       "11      55 a 59   32276     46530   -2.147304      3.095615\n",
       "10      50 a 54   36691     52491   -2.441032      3.492197\n",
       "8       45 a 49   42435     58341   -2.823177      3.881394\n",
       "7       40 a 44   51870     68279   -3.450882      4.542564\n",
       "6       35 a 39   54972     69258   -3.657256      4.607696\n",
       "5       30 a 34   58107     69913   -3.865826      4.651273\n",
       "4       25 a 29   65549     76467   -4.360938      5.087307\n",
       "3       20 a 24   69129     76693   -4.599114      5.102342\n",
       "2       15 a 19   64418     64462   -4.285693      4.288621\n",
       "1       10 a 14   63058     50990   -4.195213      3.392336\n",
       "9         5 a 9   46843     40898   -3.116438      2.720921\n",
       "0         0 a 4   28332     24934   -1.884912      1.658845"
      ]
     },
     "execution_count": 15,
     "metadata": {},
     "output_type": "execute_result"
    }
   ],
   "source": [
    "tab_piramide_etaria_percent = pd.DataFrame({\n",
    "    'Homens': frequencia_masculino,\n",
    "    'Mulheres': frequencia_feminino\n",
    "})\n",
    "\n",
    "# Renomear a coluna 'index' para 'Faixa Etária'\n",
    "tab_piramide_etaria_percent.index.name = 'Faixa Etária'\n",
    "tab_piramide_etaria_percent = tab_piramide_etaria_percent.reset_index()\n",
    "\n",
    "# Ordenar as faixas etárias\n",
    "ordem_faixas = list(faixas_etarias.keys())\n",
    "tab_piramide_etaria_percent['Faixa Etária'] = pd.Categorical(tab_piramide_etaria_percent['Faixa Etária'], categories=ordem_faixas, ordered=True)\n",
    "tab_piramide_etaria_percent = tab_piramide_etaria_percent.sort_values('Faixa Etária')\n",
    "\n",
    "# Calcular o total de registros\n",
    "total_etaria = tab_piramide_etaria_percent['Homens'].sum() + tab_piramide_etaria_percent['Mulheres'].sum()\n",
    "\n",
    "# Calcular a frequência relativa (percentual)\n",
    "tab_piramide_etaria_percent['Homens (%)'] = (tab_piramide_etaria_percent['Homens'] / total_etaria) * 100\n",
    "tab_piramide_etaria_percent['Mulheres (%)'] = (tab_piramide_etaria_percent['Mulheres'] / total_etaria) * 100\n",
    "\n",
    "#Deixando o percentual de homens no negativo para plotar a pirâmide\n",
    "tab_piramide_etaria_percent['Homens (%)'] = tab_piramide_etaria_percent['Homens (%)'] * -1\n",
    "\n",
    "tab_piramide_etaria_percent"
   ]
  },
  {
   "cell_type": "code",
   "execution_count": 16,
   "metadata": {},
   "outputs": [
    {
     "name": "stderr",
     "output_type": "stream",
     "text": [
      "c:\\Users\\Gamer\\AppData\\Local\\Programs\\Python\\Python310\\lib\\site-packages\\seaborn\\categorical.py:641: FutureWarning: The default of observed=False is deprecated and will be changed to True in a future version of pandas. Pass observed=False to retain current behavior or observed=True to adopt the future default and silence this warning.\n",
      "  grouped_vals = vals.groupby(grouper)\n",
      "c:\\Users\\Gamer\\AppData\\Local\\Programs\\Python\\Python310\\lib\\site-packages\\seaborn\\categorical.py:641: FutureWarning: The default of observed=False is deprecated and will be changed to True in a future version of pandas. Pass observed=False to retain current behavior or observed=True to adopt the future default and silence this warning.\n",
      "  grouped_vals = vals.groupby(grouper)\n"
     ]
    },
    {
     "data": {
      "image/png": "[encoded data removed]",
      "text/plain": [
       "<Figure size 640x480 with 1 Axes>"
      ]
     },
     "metadata": {},
     "output_type": "display_data"
    }
   ],
   "source": [
    "ax1 = sns.barplot(x='Homens (%)', y='Faixa Etária', data=tab_piramide_etaria_percent, order=ordem_faixas, color=\"teal\")\n",
    "ax2 = sns.barplot(x='Mulheres (%)', y='Faixa Etária', data=tab_piramide_etaria_percent, order=ordem_faixas, color=\"lightseagreen\")\n",
    "plt.title(\"Pirâmide Etária dos Casos de Dengue (%) - Brasil, 2023\")\n",
    "plt.xlabel(\"Homens / Mulheres\")\n",
    "plt.grid(axis='x', linestyle = '--')\n",
    "plt.xticks(ticks=[-5, -2, 0, 2, 5],\n",
    "labels=['5%', '2%', '0', '2%', '5%'])\n",
    "plt.show()"
   ]
  },
  {
   "cell_type": "markdown",
   "metadata": {},
   "source": [
    "#### **3.3.2 Distribuição dos Casos de Dengue por Sexo**"
   ]
  },
  {
   "cell_type": "markdown",
   "metadata": {},
   "source": [
    "Segundo do dicionário de dados do SINAN, o sexo do paciente é definido por:\n",
    "\n",
    "M- Masculino\n",
    "\n",
    "F- Feminino\n",
    "\n",
    "I- Ignorado"
   ]
  },
  {
   "cell_type": "code",
   "execution_count": 17,
   "metadata": {},
   "outputs": [
    {
     "data": {
      "text/plain": [
       "CS_SEXO\n",
       "Feminino     808741\n",
       "Masculino    694353\n",
       "Ignorado       2345\n",
       "Name: count, dtype: int64"
      ]
     },
     "execution_count": 17,
     "metadata": {},
     "output_type": "execute_result"
    }
   ],
   "source": [
    "df['CS_SEXO'].value_counts()"
   ]
  },
  {
   "cell_type": "code",
   "execution_count": 18,
   "metadata": {},
   "outputs": [
    {
     "data": {
      "text/html": [
       "<div>\n",
       "<style scoped>\n",
       "    .dataframe tbody tr th:only-of-type {\n",
       "        vertical-align: middle;\n",
       "    }\n",
       "\n",
       "    .dataframe tbody tr th {\n",
       "        vertical-align: top;\n",
       "    }\n",
       "\n",
       "    .dataframe thead th {\n",
       "        text-align: right;\n",
       "    }\n",
       "</style>\n",
       "<table border=\"1\" class=\"dataframe\">\n",
       "  <thead>\n",
       "    <tr style=\"text-align: right;\">\n",
       "      <th></th>\n",
       "      <th>Sexo</th>\n",
       "      <th>Frequência</th>\n",
       "      <th>Percentual (%)</th>\n",
       "    </tr>\n",
       "  </thead>\n",
       "  <tbody>\n",
       "    <tr>\n",
       "      <th>0</th>\n",
       "      <td>Feminino</td>\n",
       "      <td>808741</td>\n",
       "      <td>53.72</td>\n",
       "    </tr>\n",
       "    <tr>\n",
       "      <th>1</th>\n",
       "      <td>Masculino</td>\n",
       "      <td>694353</td>\n",
       "      <td>46.12</td>\n",
       "    </tr>\n",
       "    <tr>\n",
       "      <th>2</th>\n",
       "      <td>Ignorado</td>\n",
       "      <td>2345</td>\n",
       "      <td>0.16</td>\n",
       "    </tr>\n",
       "  </tbody>\n",
       "</table>\n",
       "</div>"
      ],
      "text/plain": [
       "        Sexo  Frequência  Percentual (%)\n",
       "0   Feminino      808741           53.72\n",
       "1  Masculino      694353           46.12\n",
       "2   Ignorado        2345            0.16"
      ]
     },
     "execution_count": 18,
     "metadata": {},
     "output_type": "execute_result"
    }
   ],
   "source": [
    "frequencia_sexo = df['CS_SEXO'].value_counts()\n",
    "frequencia_relativa_sexo = round(df['CS_SEXO'].value_counts(normalize = True) * 100, 2)\n",
    "\n",
    "# Criar o DataFrame tabulado\n",
    "tab_sexo = pd.DataFrame({'Frequência': frequencia_sexo, 'Percentual (%)': frequencia_relativa_sexo})\n",
    "tab_sexo.rename(columns={'index': 'Sexo'}, inplace=True)\n",
    "\n",
    "# Renomear a coluna 'index' para 'Faixa Etária'\n",
    "tab_sexo.index.name = 'Sexo'\n",
    "tab_sexo = tab_sexo.reset_index()\n",
    "\n",
    "tab_sexo"
   ]
  },
  {
   "cell_type": "markdown",
   "metadata": {},
   "source": [
    "Plotando gráfico de pizza"
   ]
  },
  {
   "cell_type": "code",
   "execution_count": 19,
   "metadata": {},
   "outputs": [
    {
     "data": {
      "image/png": "[encoded data removed]",
      "text/plain": [
       "<Figure size 600x600 with 1 Axes>"
      ]
     },
     "metadata": {},
     "output_type": "display_data"
    }
   ],
   "source": [
    "plt.figure(figsize=(6, 6))\n",
    "plt.pie(\n",
    "    tab_sexo['Frequência'], \n",
    "    labels=tab_sexo['Sexo'], \n",
    "    autopct='%1.1f%%', \n",
    "    startangle=90, \n",
    "    colors=plt.cm.Paired.colors\n",
    ")\n",
    "plt.title('Distribuição dos Casos de Dengue por Sexo (%) - Brasil, 2023')\n",
    "plt.show()"
   ]
  },
  {
   "cell_type": "markdown",
   "metadata": {},
   "source": [
    "#### **3.3.3 Distribuição dos Casos de Dengue por Etnia**"
   ]
  },
  {
   "cell_type": "markdown",
   "metadata": {},
   "source": [
    "Vamos observar os valores únicos da coluna 'CS_RACA'"
   ]
  },
  {
   "cell_type": "code",
   "execution_count": 20,
   "metadata": {},
   "outputs": [
    {
     "data": {
      "text/plain": [
       "array(['Parda', 'Ignorado', 'Branca', 'Indígena', 'Preta', 'Amarela'],\n",
       "      dtype=object)"
      ]
     },
     "execution_count": 20,
     "metadata": {},
     "output_type": "execute_result"
    }
   ],
   "source": [
    "df['CS_RACA'].unique()"
   ]
  },
  {
   "cell_type": "code",
   "execution_count": 21,
   "metadata": {},
   "outputs": [
    {
     "data": {
      "text/plain": [
       "CS_RACA\n",
       "Branca      659244\n",
       "Parda       525572\n",
       "Ignorado    236605\n",
       "Preta        65170\n",
       "Amarela      15821\n",
       "Indígena      3027\n",
       "Name: count, dtype: int64"
      ]
     },
     "execution_count": 21,
     "metadata": {},
     "output_type": "execute_result"
    }
   ],
   "source": [
    "df['CS_RACA'].value_counts()"
   ]
  },
  {
   "cell_type": "markdown",
   "metadata": {},
   "source": [
    "Tabulando as informações de Etnia"
   ]
  },
  {
   "cell_type": "code",
   "execution_count": 22,
   "metadata": {},
   "outputs": [
    {
     "data": {
      "text/html": [
       "<div>\n",
       "<style scoped>\n",
       "    .dataframe tbody tr th:only-of-type {\n",
       "        vertical-align: middle;\n",
       "    }\n",
       "\n",
       "    .dataframe tbody tr th {\n",
       "        vertical-align: top;\n",
       "    }\n",
       "\n",
       "    .dataframe thead th {\n",
       "        text-align: right;\n",
       "    }\n",
       "</style>\n",
       "<table border=\"1\" class=\"dataframe\">\n",
       "  <thead>\n",
       "    <tr style=\"text-align: right;\">\n",
       "      <th></th>\n",
       "      <th>Etnia</th>\n",
       "      <th>Frequência</th>\n",
       "      <th>Percentual (%)</th>\n",
       "    </tr>\n",
       "  </thead>\n",
       "  <tbody>\n",
       "    <tr>\n",
       "      <th>5</th>\n",
       "      <td>Indígena</td>\n",
       "      <td>3027</td>\n",
       "      <td>0.20</td>\n",
       "    </tr>\n",
       "    <tr>\n",
       "      <th>4</th>\n",
       "      <td>Amarela</td>\n",
       "      <td>15821</td>\n",
       "      <td>1.05</td>\n",
       "    </tr>\n",
       "    <tr>\n",
       "      <th>3</th>\n",
       "      <td>Preta</td>\n",
       "      <td>65170</td>\n",
       "      <td>4.33</td>\n",
       "    </tr>\n",
       "    <tr>\n",
       "      <th>2</th>\n",
       "      <td>Ignorado</td>\n",
       "      <td>236605</td>\n",
       "      <td>15.72</td>\n",
       "    </tr>\n",
       "    <tr>\n",
       "      <th>1</th>\n",
       "      <td>Parda</td>\n",
       "      <td>525572</td>\n",
       "      <td>34.91</td>\n",
       "    </tr>\n",
       "    <tr>\n",
       "      <th>0</th>\n",
       "      <td>Branca</td>\n",
       "      <td>659244</td>\n",
       "      <td>43.79</td>\n",
       "    </tr>\n",
       "  </tbody>\n",
       "</table>\n",
       "</div>"
      ],
      "text/plain": [
       "      Etnia  Frequência  Percentual (%)\n",
       "5  Indígena        3027            0.20\n",
       "4   Amarela       15821            1.05\n",
       "3     Preta       65170            4.33\n",
       "2  Ignorado      236605           15.72\n",
       "1     Parda      525572           34.91\n",
       "0    Branca      659244           43.79"
      ]
     },
     "execution_count": 22,
     "metadata": {},
     "output_type": "execute_result"
    }
   ],
   "source": [
    "frequencia_etnia = df['CS_RACA'].value_counts()\n",
    "frequencia_relativa_etnia = round(df['CS_RACA'].value_counts(normalize = True) * 100, 2)\n",
    "\n",
    "# Criar o DataFrame tabulado\n",
    "tab_etnia = pd.DataFrame({'Frequência': frequencia_etnia, 'Percentual (%)': frequencia_relativa_etnia})\n",
    "tab_etnia.rename(columns={'index': 'Etnia'}, inplace=True)\n",
    "\n",
    "# Renomear a coluna 'index' para 'Faixa Etária'\n",
    "tab_etnia.index.name = 'Etnia'\n",
    "tab_etnia = tab_etnia.reset_index()\n",
    "\n",
    "#Invertendo a ordem para a plotagem\n",
    "tab_etnia = tab_etnia.sort_values(by = 'Percentual (%)', ascending = True)\n",
    "\n",
    "tab_etnia"
   ]
  },
  {
   "cell_type": "code",
   "execution_count": 23,
   "metadata": {},
   "outputs": [
    {
     "data": {
      "image/png": "[encoded data removed]",
      "text/plain": [
       "<Figure size 1000x600 with 1 Axes>"
      ]
     },
     "metadata": {},
     "output_type": "display_data"
    }
   ],
   "source": [
    "#Gráfico de barras horizontais\n",
    "plt.figure(figsize=(10, 6))\n",
    "plt.barh(tab_etnia['Etnia'], tab_etnia['Percentual (%)'].sort_values(), color='skyblue')\n",
    "plt.title('Distribuição dos Casos de Dengue por Etnia (%) - Brasil, 2023')\n",
    "plt.xticks([])\n",
    "\n",
    "# Exibir os valores em cada barra\n",
    "for index, value in enumerate(tab_etnia['Percentual (%)'].sort_values()):\n",
    "    plt.text(value, index, f'{value:.2f}', va='center')\n",
    "\n",
    "plt.show()"
   ]
  },
  {
   "cell_type": "markdown",
   "metadata": {},
   "source": [
    "Plotando um gráfico Pizza que agrupe as etnias em Branca, Não Branca e Ignorado"
   ]
  },
  {
   "cell_type": "code",
   "execution_count": 24,
   "metadata": {},
   "outputs": [],
   "source": [
    "branca = tab_etnia[tab_etnia['Etnia'] == 'Branca']['Frequência'].sum()\n",
    "nao_branca = tab_etnia[tab_etnia['Etnia'].isin(['Parda', 'Preta', 'Amarela', 'Indígena'])]['Frequência'].sum()\n",
    "ignorado = tab_etnia[tab_etnia['Etnia'] == 'Ignorado']['Frequência'].sum()\n",
    "total = branca + nao_branca + ignorado"
   ]
  },
  {
   "cell_type": "code",
   "execution_count": 25,
   "metadata": {},
   "outputs": [
    {
     "data": {
      "text/html": [
       "<div>\n",
       "<style scoped>\n",
       "    .dataframe tbody tr th:only-of-type {\n",
       "        vertical-align: middle;\n",
       "    }\n",
       "\n",
       "    .dataframe tbody tr th {\n",
       "        vertical-align: top;\n",
       "    }\n",
       "\n",
       "    .dataframe thead th {\n",
       "        text-align: right;\n",
       "    }\n",
       "</style>\n",
       "<table border=\"1\" class=\"dataframe\">\n",
       "  <thead>\n",
       "    <tr style=\"text-align: right;\">\n",
       "      <th></th>\n",
       "      <th>Etnia</th>\n",
       "      <th>Frequência</th>\n",
       "      <th>Percentual (%)</th>\n",
       "    </tr>\n",
       "  </thead>\n",
       "  <tbody>\n",
       "    <tr>\n",
       "      <th>0</th>\n",
       "      <td>Branca</td>\n",
       "      <td>659244</td>\n",
       "      <td>43.790815</td>\n",
       "    </tr>\n",
       "    <tr>\n",
       "      <th>1</th>\n",
       "      <td>Não Branca</td>\n",
       "      <td>609590</td>\n",
       "      <td>40.492508</td>\n",
       "    </tr>\n",
       "    <tr>\n",
       "      <th>2</th>\n",
       "      <td>Ignorado</td>\n",
       "      <td>236605</td>\n",
       "      <td>15.716678</td>\n",
       "    </tr>\n",
       "  </tbody>\n",
       "</table>\n",
       "</div>"
      ],
      "text/plain": [
       "        Etnia  Frequência  Percentual (%)\n",
       "0      Branca      659244       43.790815\n",
       "1  Não Branca      609590       40.492508\n",
       "2    Ignorado      236605       15.716678"
      ]
     },
     "execution_count": 25,
     "metadata": {},
     "output_type": "execute_result"
    }
   ],
   "source": [
    "tab_etnia_resumida = pd.DataFrame({\n",
    "    'Etnia': ['Branca', 'Não Branca', 'Ignorado'],\n",
    "    'Frequência': [branca, nao_branca, ignorado],\n",
    "    'Percentual (%)': [branca/total*100, nao_branca/total*100, ignorado/total*100]\n",
    "})\n",
    "\n",
    "tab_etnia_resumida"
   ]
  },
  {
   "cell_type": "code",
   "execution_count": 26,
   "metadata": {},
   "outputs": [
    {
     "data": {
      "image/png": "[encoded data removed]",
      "text/plain": [
       "<Figure size 800x800 with 1 Axes>"
      ]
     },
     "metadata": {},
     "output_type": "display_data"
    }
   ],
   "source": [
    "plt.figure(figsize=(8, 8))\n",
    "plt.pie(\n",
    "    tab_etnia_resumida['Frequência'], \n",
    "    labels=tab_etnia_resumida['Etnia'], \n",
    "    autopct='%1.1f%%', \n",
    "    startangle=90, \n",
    "    colors=plt.cm.Paired.colors\n",
    ")\n",
    "plt.title('Distribuição dos Casos de Dengue por Etnia (%) - Brasil, 2023')\n",
    "plt.show()\n"
   ]
  },
  {
   "cell_type": "markdown",
   "metadata": {},
   "source": [
    "#### **3.3.4 Distribuição dos Casos de Dengue por Escolaridade**"
   ]
  },
  {
   "cell_type": "code",
   "execution_count": 28,
   "metadata": {},
   "outputs": [
    {
     "data": {
      "text/plain": [
       "CS_ESCOL_N\n",
       "Ignorado                      761080\n",
       "Ensino Médio completo         248932\n",
       "Fundamental incompleto        141438\n",
       "Não se aplica                 100595\n",
       "Fundamental completo           90137\n",
       "Ensino Médio incompleto        77019\n",
       "Ensino superior completo       65024\n",
       "Ensino Superior incompleto     21214\n",
       "Name: count, dtype: int64"
      ]
     },
     "execution_count": 28,
     "metadata": {},
     "output_type": "execute_result"
    }
   ],
   "source": [
    "df['CS_ESCOL_N'].value_counts()"
   ]
  },
  {
   "cell_type": "code",
   "execution_count": 37,
   "metadata": {},
   "outputs": [
    {
     "data": {
      "text/plain": [
       "861675"
      ]
     },
     "execution_count": 37,
     "metadata": {},
     "output_type": "execute_result"
    }
   ],
   "source": [
    "df['CS_ESCOL_N'].value_counts().loc[['Ignorado', 'Não se aplica']].sum()"
   ]
  },
  {
   "cell_type": "markdown",
   "metadata": {},
   "source": [
    "'Ignorado' e 'Não se Aplica' apresentam uma frequência muito grande no dataset, vamos excuí-los para melhor visualização do nível de escolaridade dos pacientes"
   ]
  },
  {
   "cell_type": "code",
   "execution_count": 33,
   "metadata": {},
   "outputs": [
    {
     "data": {
      "text/plain": [
       "(643764, 35)"
      ]
     },
     "execution_count": 33,
     "metadata": {},
     "output_type": "execute_result"
    }
   ],
   "source": [
    "df_escolaridade = df.query('CS_ESCOL_N != \"Ignorado\" & CS_ESCOL_N != \"Não se aplica\"')\n",
    "df_escolaridade.shape"
   ]
  },
  {
   "cell_type": "markdown",
   "metadata": {},
   "source": [
    "Tabulando as informações de escolaridade, exclusive 'Ignorado' e 'Não se aplica'"
   ]
  },
  {
   "cell_type": "code",
   "execution_count": 31,
   "metadata": {},
   "outputs": [
    {
     "data": {
      "text/html": [
       "<div>\n",
       "<style scoped>\n",
       "    .dataframe tbody tr th:only-of-type {\n",
       "        vertical-align: middle;\n",
       "    }\n",
       "\n",
       "    .dataframe tbody tr th {\n",
       "        vertical-align: top;\n",
       "    }\n",
       "\n",
       "    .dataframe thead th {\n",
       "        text-align: right;\n",
       "    }\n",
       "</style>\n",
       "<table border=\"1\" class=\"dataframe\">\n",
       "  <thead>\n",
       "    <tr style=\"text-align: right;\">\n",
       "      <th></th>\n",
       "      <th>Escolaridade</th>\n",
       "      <th>Frequência</th>\n",
       "      <th>Percentual (%)</th>\n",
       "    </tr>\n",
       "  </thead>\n",
       "  <tbody>\n",
       "    <tr>\n",
       "      <th>5</th>\n",
       "      <td>Ensino Superior incompleto</td>\n",
       "      <td>21214</td>\n",
       "      <td>3.30</td>\n",
       "    </tr>\n",
       "    <tr>\n",
       "      <th>4</th>\n",
       "      <td>Ensino superior completo</td>\n",
       "      <td>65024</td>\n",
       "      <td>10.10</td>\n",
       "    </tr>\n",
       "    <tr>\n",
       "      <th>3</th>\n",
       "      <td>Ensino Médio incompleto</td>\n",
       "      <td>77019</td>\n",
       "      <td>11.96</td>\n",
       "    </tr>\n",
       "    <tr>\n",
       "      <th>2</th>\n",
       "      <td>Fundamental completo</td>\n",
       "      <td>90137</td>\n",
       "      <td>14.00</td>\n",
       "    </tr>\n",
       "    <tr>\n",
       "      <th>1</th>\n",
       "      <td>Fundamental incompleto</td>\n",
       "      <td>141438</td>\n",
       "      <td>21.97</td>\n",
       "    </tr>\n",
       "    <tr>\n",
       "      <th>0</th>\n",
       "      <td>Ensino Médio completo</td>\n",
       "      <td>248932</td>\n",
       "      <td>38.67</td>\n",
       "    </tr>\n",
       "  </tbody>\n",
       "</table>\n",
       "</div>"
      ],
      "text/plain": [
       "                 Escolaridade  Frequência  Percentual (%)\n",
       "5  Ensino Superior incompleto       21214            3.30\n",
       "4    Ensino superior completo       65024           10.10\n",
       "3     Ensino Médio incompleto       77019           11.96\n",
       "2        Fundamental completo       90137           14.00\n",
       "1      Fundamental incompleto      141438           21.97\n",
       "0       Ensino Médio completo      248932           38.67"
      ]
     },
     "execution_count": 31,
     "metadata": {},
     "output_type": "execute_result"
    }
   ],
   "source": [
    "frequencia_escolaridade = df_escolaridade['CS_ESCOL_N'].value_counts()\n",
    "frequencia_relativa_escolaridade = round(df_escolaridade['CS_ESCOL_N'].value_counts(normalize = True) * 100, 2)\n",
    "\n",
    "# Criar o DataFrame tabulado\n",
    "tab_escolaridade = pd.DataFrame({'Frequência': frequencia_escolaridade, 'Percentual (%)': frequencia_relativa_escolaridade})\n",
    "tab_escolaridade.rename(columns={'index': 'Escolaridade'}, inplace=True)\n",
    "\n",
    "# Renomear a coluna 'index' para 'Faixa Etária'\n",
    "tab_escolaridade.index.name = 'Escolaridade'\n",
    "tab_escolaridade = tab_escolaridade.reset_index()\n",
    "\n",
    "#Invertendo a ordem para a plotagem\n",
    "tab_escolaridade = tab_escolaridade.sort_values(by = 'Percentual (%)', ascending = True)\n",
    "\n",
    "tab_escolaridade"
   ]
  },
  {
   "cell_type": "markdown",
   "metadata": {},
   "source": [
    "Plotando um gráfico de barras com a distribuição por escolaridade"
   ]
  },
  {
   "cell_type": "code",
   "execution_count": 32,
   "metadata": {},
   "outputs": [
    {
     "data": {
      "image/png": "[encoded data removed]",
      "text/plain": [
       "<Figure size 1000x600 with 1 Axes>"
      ]
     },
     "metadata": {},
     "output_type": "display_data"
    }
   ],
   "source": [
    "#Gráfico de barras horizontais\n",
    "plt.figure(figsize=(10, 6))\n",
    "plt.barh(tab_escolaridade['Escolaridade'], tab_escolaridade['Percentual (%)'], color='teal')\n",
    "plt.title('Distribuição dos Casos de Dengue por Escolaridade (%) - Brasil, 2023')\n",
    "plt.xticks([])\n",
    "\n",
    "# Exibir os valores em cada barra\n",
    "for index, value in enumerate(tab_escolaridade['Percentual (%)']):\n",
    "    plt.text(value, index, f'{value:.2f}', va='center')\n",
    "\n",
    "plt.show()"
   ]
  },
  {
   "cell_type": "markdown",
   "metadata": {},
   "source": [
    "#### **3.3.5 Incidência de Dengue em Gestantes**"
   ]
  },
  {
   "cell_type": "markdown",
   "metadata": {},
   "source": [
    "Tabulando as Informações de Gestação e Idade Gestacional"
   ]
  },
  {
   "cell_type": "code",
   "execution_count": 46,
   "metadata": {},
   "outputs": [
    {
     "data": {
      "text/html": [
       "<div>\n",
       "<style scoped>\n",
       "    .dataframe tbody tr th:only-of-type {\n",
       "        vertical-align: middle;\n",
       "    }\n",
       "\n",
       "    .dataframe tbody tr th {\n",
       "        vertical-align: top;\n",
       "    }\n",
       "\n",
       "    .dataframe thead th {\n",
       "        text-align: right;\n",
       "    }\n",
       "</style>\n",
       "<table border=\"1\" class=\"dataframe\">\n",
       "  <thead>\n",
       "    <tr style=\"text-align: right;\">\n",
       "      <th></th>\n",
       "      <th>Gestante</th>\n",
       "      <th>Frequência</th>\n",
       "      <th>Percentual (%)</th>\n",
       "    </tr>\n",
       "  </thead>\n",
       "  <tbody>\n",
       "    <tr>\n",
       "      <th>0</th>\n",
       "      <td>Não se aplica</td>\n",
       "      <td>841987</td>\n",
       "      <td>55.93</td>\n",
       "    </tr>\n",
       "    <tr>\n",
       "      <th>1</th>\n",
       "      <td>Não</td>\n",
       "      <td>530218</td>\n",
       "      <td>35.22</td>\n",
       "    </tr>\n",
       "    <tr>\n",
       "      <th>2</th>\n",
       "      <td>Ignorado</td>\n",
       "      <td>121380</td>\n",
       "      <td>8.06</td>\n",
       "    </tr>\n",
       "    <tr>\n",
       "      <th>3</th>\n",
       "      <td>2º Trimestre</td>\n",
       "      <td>3728</td>\n",
       "      <td>0.25</td>\n",
       "    </tr>\n",
       "    <tr>\n",
       "      <th>4</th>\n",
       "      <td>3º Trimestre</td>\n",
       "      <td>3063</td>\n",
       "      <td>0.20</td>\n",
       "    </tr>\n",
       "    <tr>\n",
       "      <th>5</th>\n",
       "      <td>1º Trimestre</td>\n",
       "      <td>2984</td>\n",
       "      <td>0.20</td>\n",
       "    </tr>\n",
       "    <tr>\n",
       "      <th>6</th>\n",
       "      <td>Idade gestacional ignorada</td>\n",
       "      <td>2079</td>\n",
       "      <td>0.14</td>\n",
       "    </tr>\n",
       "  </tbody>\n",
       "</table>\n",
       "</div>"
      ],
      "text/plain": [
       "                     Gestante  Frequência  Percentual (%)\n",
       "0               Não se aplica      841987           55.93\n",
       "1                         Não      530218           35.22\n",
       "2                    Ignorado      121380            8.06\n",
       "3                2º Trimestre        3728            0.25\n",
       "4                3º Trimestre        3063            0.20\n",
       "5                1º Trimestre        2984            0.20\n",
       "6  Idade gestacional ignorada        2079            0.14"
      ]
     },
     "execution_count": 46,
     "metadata": {},
     "output_type": "execute_result"
    }
   ],
   "source": [
    "frequencia_gestante= df['CS_GESTANT'].value_counts()\n",
    "frequencia_relativa_gestante= round(df['CS_GESTANT'].value_counts(normalize = True) * 100, 2)\n",
    "\n",
    "# Criar o DataFrame tabulado\n",
    "tab_gestante= pd.DataFrame({'Frequência': frequencia_gestante, 'Percentual (%)': frequencia_relativa_gestante})\n",
    "tab_gestante.rename(columns={'index': 'Gestante'}, inplace=True)\n",
    "\n",
    "# Renomear a coluna 'index' para 'Faixa Etária'\n",
    "tab_gestante.index.name = 'Gestante'\n",
    "tab_gestante= tab_gestante.reset_index()\n",
    "\n",
    "tab_gestante"
   ]
  },
  {
   "cell_type": "markdown",
   "metadata": {},
   "source": [
    "No dicionário de dados do SINAN, o campo de Gestação é automaticamente preenchido com 'Não se Aplica' para pessoas do gênero masculino ou do gênero feminino com idade menor ou igual a 10 anos.\n",
    "\n"
   ]
  },
  {
   "cell_type": "code",
   "execution_count": 39,
   "metadata": {},
   "outputs": [],
   "source": [
    "gestante = tab_gestante[tab_gestante['Gestante'].isin(['1º Trimestre', '2º Trimestre', '3º Trimestre', 'Idade Gestacional Ignorada'])]['Frequência'].sum()\n",
    "nao_gestante = tab_gestante[tab_gestante['Gestante'] == 'Não']['Frequência'].sum()\n",
    "ignorado_gestante = tab_gestante[tab_gestante['Gestante'] == 'Ignorado']['Frequência'].sum()\n",
    "total_gestante = gestante + nao_gestante + ignorado_gestante"
   ]
  },
  {
   "cell_type": "code",
   "execution_count": 42,
   "metadata": {},
   "outputs": [
    {
     "data": {
      "text/html": [
       "<div>\n",
       "<style scoped>\n",
       "    .dataframe tbody tr th:only-of-type {\n",
       "        vertical-align: middle;\n",
       "    }\n",
       "\n",
       "    .dataframe tbody tr th {\n",
       "        vertical-align: top;\n",
       "    }\n",
       "\n",
       "    .dataframe thead th {\n",
       "        text-align: right;\n",
       "    }\n",
       "</style>\n",
       "<table border=\"1\" class=\"dataframe\">\n",
       "  <thead>\n",
       "    <tr style=\"text-align: right;\">\n",
       "      <th></th>\n",
       "      <th>Gravidez</th>\n",
       "      <th>Frequência</th>\n",
       "      <th>Percentual (%)</th>\n",
       "    </tr>\n",
       "  </thead>\n",
       "  <tbody>\n",
       "    <tr>\n",
       "      <th>0</th>\n",
       "      <td>Gestante</td>\n",
       "      <td>9775</td>\n",
       "      <td>1.477986</td>\n",
       "    </tr>\n",
       "    <tr>\n",
       "      <th>1</th>\n",
       "      <td>Não Gestante</td>\n",
       "      <td>530218</td>\n",
       "      <td>80.169284</td>\n",
       "    </tr>\n",
       "    <tr>\n",
       "      <th>2</th>\n",
       "      <td>Ignorado</td>\n",
       "      <td>236605</td>\n",
       "      <td>35.774820</td>\n",
       "    </tr>\n",
       "  </tbody>\n",
       "</table>\n",
       "</div>"
      ],
      "text/plain": [
       "       Gravidez  Frequência  Percentual (%)\n",
       "0      Gestante        9775        1.477986\n",
       "1  Não Gestante      530218       80.169284\n",
       "2      Ignorado      236605       35.774820"
      ]
     },
     "execution_count": 42,
     "metadata": {},
     "output_type": "execute_result"
    }
   ],
   "source": [
    "tab_gestante_resumida = pd.DataFrame({\n",
    "    'Gravidez': ['Gestante', 'Não Gestante', 'Ignorado'],\n",
    "    'Frequência': [gestante, nao_gestante, ignorado],\n",
    "    'Percentual (%)': [gestante/total_gestante*100, nao_gestante/total_gestante*100, ignorado/total_gestante*100]\n",
    "})\n",
    "\n",
    "tab_gestante_resumida"
   ]
  },
  {
   "cell_type": "code",
   "execution_count": 43,
   "metadata": {},
   "outputs": [
    {
     "data": {
      "image/png": "[encoded data removed]",
      "text/plain": [
       "<Figure size 600x600 with 1 Axes>"
      ]
     },
     "metadata": {},
     "output_type": "display_data"
    }
   ],
   "source": [
    "#Gráfico de Pizza de Gestação\n",
    "\n",
    "plt.figure(figsize=(6, 6))\n",
    "plt.pie(\n",
    "    tab_gestante_resumida['Frequência'], \n",
    "    labels=tab_gestante_resumida['Gravidez'], \n",
    "    autopct='%1.1f%%', \n",
    "    startangle=90, \n",
    "    colors=plt.cm.Paired.colors\n",
    ")\n",
    "plt.title('Distribuição dos Casos de Dengue por Condição Gestacional (%) - Brasil, 2023')\n",
    "plt.show()"
   ]
  },
  {
   "cell_type": "markdown",
   "metadata": {},
   "source": [
    "Analisando os casos em gestantes por idade gestacional"
   ]
  },
  {
   "cell_type": "code",
   "execution_count": 51,
   "metadata": {},
   "outputs": [],
   "source": [
    "trimestre_1 = tab_gestante[tab_gestante['Gestante'] == '1º Trimestre']['Frequência'].sum()\n",
    "trimestre_2 = tab_gestante[tab_gestante['Gestante'] == '2º Trimestre']['Frequência'].sum()\n",
    "trimestre_3 = tab_gestante[tab_gestante['Gestante'] == '3º Trimestre']['Frequência'].sum()\n",
    "idade_gestacional_ignorada = tab_gestante[tab_gestante['Gestante'] == 'Idade gestacional ignorada']['Frequência'].sum()\n",
    "total_gravidez = trimestre_1 + trimestre_2 + trimestre_3 + idade_gestacional_ignorada"
   ]
  },
  {
   "cell_type": "code",
   "execution_count": 52,
   "metadata": {},
   "outputs": [
    {
     "data": {
      "text/html": [
       "<div>\n",
       "<style scoped>\n",
       "    .dataframe tbody tr th:only-of-type {\n",
       "        vertical-align: middle;\n",
       "    }\n",
       "\n",
       "    .dataframe tbody tr th {\n",
       "        vertical-align: top;\n",
       "    }\n",
       "\n",
       "    .dataframe thead th {\n",
       "        text-align: right;\n",
       "    }\n",
       "</style>\n",
       "<table border=\"1\" class=\"dataframe\">\n",
       "  <thead>\n",
       "    <tr style=\"text-align: right;\">\n",
       "      <th></th>\n",
       "      <th>Idade Gestacional</th>\n",
       "      <th>Frequência</th>\n",
       "      <th>Percentual (%)</th>\n",
       "    </tr>\n",
       "  </thead>\n",
       "  <tbody>\n",
       "    <tr>\n",
       "      <th>0</th>\n",
       "      <td>1º Trimestre</td>\n",
       "      <td>2984</td>\n",
       "      <td>25.172937</td>\n",
       "    </tr>\n",
       "    <tr>\n",
       "      <th>1</th>\n",
       "      <td>2º Trimestre</td>\n",
       "      <td>3728</td>\n",
       "      <td>31.449300</td>\n",
       "    </tr>\n",
       "    <tr>\n",
       "      <th>2</th>\n",
       "      <td>3º Trimestre</td>\n",
       "      <td>3063</td>\n",
       "      <td>25.839379</td>\n",
       "    </tr>\n",
       "    <tr>\n",
       "      <th>3</th>\n",
       "      <td>Idade Gestacional Ignorada</td>\n",
       "      <td>2079</td>\n",
       "      <td>17.538384</td>\n",
       "    </tr>\n",
       "  </tbody>\n",
       "</table>\n",
       "</div>"
      ],
      "text/plain": [
       "            Idade Gestacional  Frequência  Percentual (%)\n",
       "0                1º Trimestre        2984       25.172937\n",
       "1                2º Trimestre        3728       31.449300\n",
       "2                3º Trimestre        3063       25.839379\n",
       "3  Idade Gestacional Ignorada        2079       17.538384"
      ]
     },
     "execution_count": 52,
     "metadata": {},
     "output_type": "execute_result"
    }
   ],
   "source": [
    "tab_gravidez_resumida = pd.DataFrame({\n",
    "    'Idade Gestacional': ['1º Trimestre', '2º Trimestre', '3º Trimestre', 'Idade Gestacional Ignorada'],\n",
    "    'Frequência': [trimestre_1, trimestre_2, trimestre_3, idade_gestacional_ignorada],\n",
    "    'Percentual (%)': [trimestre_1/total_gravidez*100, trimestre_2/total_gravidez*100, trimestre_3/total_gravidez*100, idade_gestacional_ignorada/total_gravidez*100]\n",
    "})\n",
    "\n",
    "tab_gravidez_resumida"
   ]
  },
  {
   "cell_type": "code",
   "execution_count": 54,
   "metadata": {},
   "outputs": [
    {
     "data": {
      "image/png": "[encoded data removed]",
      "text/plain": [
       "<Figure size 700x700 with 1 Axes>"
      ]
     },
     "metadata": {},
     "output_type": "display_data"
    }
   ],
   "source": [
    "#Gráfico de Pizza das Gestantes\n",
    "\n",
    "plt.figure(figsize=(7, 7))\n",
    "plt.pie(\n",
    "    tab_gravidez_resumida['Frequência'], \n",
    "    labels=tab_gravidez_resumida['Idade Gestacional'], \n",
    "    autopct='%1.1f%%', \n",
    "    startangle=90, \n",
    "    colors=plt.cm.Paired.colors\n",
    ")\n",
    "plt.title('Distribuição dos Casos de Dengue por Idade Gestacional (%) - Brasil, 2023')\n",
    "plt.show()"
   ]
  },
  {
   "cell_type": "markdown",
   "metadata": {},
   "source": [
    "### **3.4 Sintomas, Mortalidade e Evolução dos Casos de Dengue**"
   ]
  },
  {
   "cell_type": "markdown",
   "metadata": {},
   "source": [
    "•\tQuais são os sintomas mais comuns entre os casos notificados de dengue (FEBRE, MIALGIA, CEFALEIA, etc.)?\n",
    "\n",
    "•\tExiste uma relação entre a presença de sintomas graves (como LEUCOPENIA ou HEMATOLOG) e a evolução dos casos e/ou óbito?\n",
    "\n",
    "•\tQual é a prevalência de comorbidades (DIABETES, RENAL, HIPERTENSA, etc.) entre os pacientes diagnosticados com dengue? Qual a relação entre a presença de comorbidades e a evolução/óbito?\n",
    "\n",
    "•\tQual é a taxa de hospitalização (HOSPITALIZ) entre os pacientes diagnosticados com dengue?\n",
    "\n",
    "•\tQual é a taxa de mortalidade (TARGET_OBITO) associada à dengue em 2023?\n",
    "\n",
    "•\tExiste alguma tendência temporal entre a data do início dos sintomas (DT_SIN_PRI) e a evolução dos casos (EVOLUCAO) ao longo do tempo?\n"
   ]
  },
  {
   "cell_type": "markdown",
   "metadata": {},
   "source": []
  }
 ],
 "metadata": {
  "kernelspec": {
   "display_name": "Python 3",
   "language": "python",
   "name": "python3"
  },
  "language_info": {
   "codemirror_mode": {
    "name": "ipython",
    "version": 3
   },
   "file_extension": ".py",
   "mimetype": "text/x-python",
   "name": "python",
   "nbconvert_exporter": "python",
   "pygments_lexer": "ipython3",
   "version": "3.10.5"
  }
 },
 "nbformat": 4,
 "nbformat_minor": 2
}
